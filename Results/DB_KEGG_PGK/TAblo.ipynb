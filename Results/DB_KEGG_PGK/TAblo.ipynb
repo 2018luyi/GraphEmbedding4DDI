{
 "cells": [
  {
   "cell_type": "code",
   "execution_count": 20,
   "metadata": {
    "collapsed": true
   },
   "outputs": [],
   "source": [
    "url=\"all_results.csv\""
   ]
  },
  {
   "cell_type": "code",
   "execution_count": 21,
   "metadata": {},
   "outputs": [
    {
     "data": {
      "text/html": [
       "<div>\n",
       "<style scoped>\n",
       "    .dataframe tbody tr th:only-of-type {\n",
       "        vertical-align: middle;\n",
       "    }\n",
       "\n",
       "    .dataframe tbody tr th {\n",
       "        vertical-align: top;\n",
       "    }\n",
       "\n",
       "    .dataframe thead th {\n",
       "        text-align: right;\n",
       "    }\n",
       "</style>\n",
       "<table border=\"1\" class=\"dataframe\">\n",
       "  <thead>\n",
       "    <tr style=\"text-align: right;\">\n",
       "      <th></th>\n",
       "      <th>Unnamed: 0</th>\n",
       "      <th>Unnamed: 0.1</th>\n",
       "      <th>fit_time</th>\n",
       "      <th>score_time</th>\n",
       "      <th>test_accuracy</th>\n",
       "      <th>test_average_precision</th>\n",
       "      <th>test_f1</th>\n",
       "      <th>test_precision</th>\n",
       "      <th>test_recall</th>\n",
       "      <th>test_roc_auc</th>\n",
       "      <th>train_accuracy</th>\n",
       "      <th>train_average_precision</th>\n",
       "      <th>train_f1</th>\n",
       "      <th>train_precision</th>\n",
       "      <th>train_recall</th>\n",
       "      <th>train_roc_auc</th>\n",
       "    </tr>\n",
       "  </thead>\n",
       "  <tbody>\n",
       "    <tr>\n",
       "      <th>0</th>\n",
       "      <td>Drug2Vec_cbow_200_5_5_2_500_uniform_nb_results...</td>\n",
       "      <td>4.5</td>\n",
       "      <td>4.324619</td>\n",
       "      <td>1.381181</td>\n",
       "      <td>0.646493</td>\n",
       "      <td>0.678839</td>\n",
       "      <td>0.631160</td>\n",
       "      <td>0.659778</td>\n",
       "      <td>0.604922</td>\n",
       "      <td>0.694757</td>\n",
       "      <td>0.646547</td>\n",
       "      <td>0.678880</td>\n",
       "      <td>0.631231</td>\n",
       "      <td>0.659822</td>\n",
       "      <td>0.605015</td>\n",
       "      <td>0.694806</td>\n",
       "    </tr>\n",
       "    <tr>\n",
       "      <th>1</th>\n",
       "      <td>Drug2Vec_cbow_200_5_5_2_500_uniform_lr_results...</td>\n",
       "      <td>4.5</td>\n",
       "      <td>94.639864</td>\n",
       "      <td>0.185205</td>\n",
       "      <td>0.708277</td>\n",
       "      <td>0.780453</td>\n",
       "      <td>0.705519</td>\n",
       "      <td>0.712252</td>\n",
       "      <td>0.698914</td>\n",
       "      <td>0.780291</td>\n",
       "      <td>0.708994</td>\n",
       "      <td>0.781420</td>\n",
       "      <td>0.706213</td>\n",
       "      <td>0.713028</td>\n",
       "      <td>0.699528</td>\n",
       "      <td>0.781109</td>\n",
       "    </tr>\n",
       "    <tr>\n",
       "      <th>2</th>\n",
       "      <td>Drug2Vec_cbow_200_5_5_2_500_uniform_rf_results...</td>\n",
       "      <td>4.5</td>\n",
       "      <td>142.059660</td>\n",
       "      <td>4.167422</td>\n",
       "      <td>0.841733</td>\n",
       "      <td>0.915865</td>\n",
       "      <td>0.846527</td>\n",
       "      <td>0.821396</td>\n",
       "      <td>0.873264</td>\n",
       "      <td>0.922453</td>\n",
       "      <td>1.000000</td>\n",
       "      <td>1.000000</td>\n",
       "      <td>1.000000</td>\n",
       "      <td>1.000000</td>\n",
       "      <td>1.000000</td>\n",
       "      <td>1.000000</td>\n",
       "    </tr>\n",
       "    <tr>\n",
       "      <th>3</th>\n",
       "      <td>drug2vec_DB_KEGG_PHARMGKB_transD_50_nb_results...</td>\n",
       "      <td>4.5</td>\n",
       "      <td>0.845779</td>\n",
       "      <td>0.380039</td>\n",
       "      <td>0.638827</td>\n",
       "      <td>0.698816</td>\n",
       "      <td>0.673188</td>\n",
       "      <td>0.614712</td>\n",
       "      <td>0.743968</td>\n",
       "      <td>0.700851</td>\n",
       "      <td>0.638847</td>\n",
       "      <td>0.698833</td>\n",
       "      <td>0.673208</td>\n",
       "      <td>0.614721</td>\n",
       "      <td>0.743995</td>\n",
       "      <td>0.700877</td>\n",
       "    </tr>\n",
       "    <tr>\n",
       "      <th>4</th>\n",
       "      <td>drug2vec_DB_KEGG_PHARMGKB_transD_50_lr_results...</td>\n",
       "      <td>4.5</td>\n",
       "      <td>5.304815</td>\n",
       "      <td>0.077673</td>\n",
       "      <td>0.665627</td>\n",
       "      <td>0.729041</td>\n",
       "      <td>0.671707</td>\n",
       "      <td>0.659710</td>\n",
       "      <td>0.684153</td>\n",
       "      <td>0.725549</td>\n",
       "      <td>0.665669</td>\n",
       "      <td>0.729173</td>\n",
       "      <td>0.671687</td>\n",
       "      <td>0.659811</td>\n",
       "      <td>0.683998</td>\n",
       "      <td>0.725681</td>\n",
       "    </tr>\n",
       "  </tbody>\n",
       "</table>\n",
       "</div>"
      ],
      "text/plain": [
       "                                          Unnamed: 0  Unnamed: 0.1  \\\n",
       "0  Drug2Vec_cbow_200_5_5_2_500_uniform_nb_results...           4.5   \n",
       "1  Drug2Vec_cbow_200_5_5_2_500_uniform_lr_results...           4.5   \n",
       "2  Drug2Vec_cbow_200_5_5_2_500_uniform_rf_results...           4.5   \n",
       "3  drug2vec_DB_KEGG_PHARMGKB_transD_50_nb_results...           4.5   \n",
       "4  drug2vec_DB_KEGG_PHARMGKB_transD_50_lr_results...           4.5   \n",
       "\n",
       "     fit_time  score_time  test_accuracy  test_average_precision   test_f1  \\\n",
       "0    4.324619    1.381181       0.646493                0.678839  0.631160   \n",
       "1   94.639864    0.185205       0.708277                0.780453  0.705519   \n",
       "2  142.059660    4.167422       0.841733                0.915865  0.846527   \n",
       "3    0.845779    0.380039       0.638827                0.698816  0.673188   \n",
       "4    5.304815    0.077673       0.665627                0.729041  0.671707   \n",
       "\n",
       "   test_precision  test_recall  test_roc_auc  train_accuracy  \\\n",
       "0        0.659778     0.604922      0.694757        0.646547   \n",
       "1        0.712252     0.698914      0.780291        0.708994   \n",
       "2        0.821396     0.873264      0.922453        1.000000   \n",
       "3        0.614712     0.743968      0.700851        0.638847   \n",
       "4        0.659710     0.684153      0.725549        0.665669   \n",
       "\n",
       "   train_average_precision  train_f1  train_precision  train_recall  \\\n",
       "0                 0.678880  0.631231         0.659822      0.605015   \n",
       "1                 0.781420  0.706213         0.713028      0.699528   \n",
       "2                 1.000000  1.000000         1.000000      1.000000   \n",
       "3                 0.698833  0.673208         0.614721      0.743995   \n",
       "4                 0.729173  0.671687         0.659811      0.683998   \n",
       "\n",
       "   train_roc_auc  \n",
       "0       0.694806  \n",
       "1       0.781109  \n",
       "2       1.000000  \n",
       "3       0.700877  \n",
       "4       0.725681  "
      ]
     },
     "execution_count": 21,
     "metadata": {},
     "output_type": "execute_result"
    }
   ],
   "source": [
    "import pandas as pd\n",
    "data=pd.read_csv(url)\n",
    "data.head()"
   ]
  },
  {
   "cell_type": "code",
   "execution_count": 22,
   "metadata": {},
   "outputs": [
    {
     "data": {
      "text/html": [
       "<div>\n",
       "<style scoped>\n",
       "    .dataframe tbody tr th:only-of-type {\n",
       "        vertical-align: middle;\n",
       "    }\n",
       "\n",
       "    .dataframe tbody tr th {\n",
       "        vertical-align: top;\n",
       "    }\n",
       "\n",
       "    .dataframe thead th {\n",
       "        text-align: right;\n",
       "    }\n",
       "</style>\n",
       "<table border=\"1\" class=\"dataframe\">\n",
       "  <thead>\n",
       "    <tr style=\"text-align: right;\">\n",
       "      <th></th>\n",
       "      <th>test_roc_auc</th>\n",
       "      <th>test_f1</th>\n",
       "    </tr>\n",
       "    <tr>\n",
       "      <th>Unnamed: 0</th>\n",
       "      <th></th>\n",
       "      <th></th>\n",
       "    </tr>\n",
       "  </thead>\n",
       "  <tbody>\n",
       "    <tr>\n",
       "      <th>Drug2Vec_cbow_200_5_5_2_500_uniform_nb_results_pred</th>\n",
       "      <td>0.694757</td>\n",
       "      <td>0.631160</td>\n",
       "    </tr>\n",
       "    <tr>\n",
       "      <th>Drug2Vec_cbow_200_5_5_2_500_uniform_lr_results_pred</th>\n",
       "      <td>0.780291</td>\n",
       "      <td>0.705519</td>\n",
       "    </tr>\n",
       "    <tr>\n",
       "      <th>Drug2Vec_cbow_200_5_5_2_500_uniform_rf_results_pred</th>\n",
       "      <td>0.922453</td>\n",
       "      <td>0.846527</td>\n",
       "    </tr>\n",
       "    <tr>\n",
       "      <th>drug2vec_DB_KEGG_PHARMGKB_transD_50_nb_results_pred</th>\n",
       "      <td>0.700851</td>\n",
       "      <td>0.673188</td>\n",
       "    </tr>\n",
       "    <tr>\n",
       "      <th>drug2vec_DB_KEGG_PHARMGKB_transD_50_lr_results_pred</th>\n",
       "      <td>0.725549</td>\n",
       "      <td>0.671707</td>\n",
       "    </tr>\n",
       "    <tr>\n",
       "      <th>drug2vec_DB_KEGG_PHARMGKB_transD_50_rf_results_pred</th>\n",
       "      <td>0.910275</td>\n",
       "      <td>0.831717</td>\n",
       "    </tr>\n",
       "    <tr>\n",
       "      <th>Drug2Vec_sg_200_5_5_15_2_500_uniform_nb_results_pred</th>\n",
       "      <td>0.734760</td>\n",
       "      <td>0.677168</td>\n",
       "    </tr>\n",
       "    <tr>\n",
       "      <th>Drug2Vec_sg_200_5_5_15_2_500_uniform_lr_results_pred</th>\n",
       "      <td>0.800513</td>\n",
       "      <td>0.728551</td>\n",
       "    </tr>\n",
       "    <tr>\n",
       "      <th>Drug2Vec_sg_200_5_5_15_2_500_uniform_rf_results_pred</th>\n",
       "      <td>0.933717</td>\n",
       "      <td>0.860011</td>\n",
       "    </tr>\n",
       "    <tr>\n",
       "      <th>drug2vec_DB_KEGG_PHARMGKB_transE_50_nb_results_pred</th>\n",
       "      <td>0.698346</td>\n",
       "      <td>0.670829</td>\n",
       "    </tr>\n",
       "    <tr>\n",
       "      <th>drug2vec_DB_KEGG_PHARMGKB_transE_50_lr_results_pred</th>\n",
       "      <td>0.724546</td>\n",
       "      <td>0.672491</td>\n",
       "    </tr>\n",
       "    <tr>\n",
       "      <th>drug2vec_DB_KEGG_PHARMGKB_transE_50_rf_results_pred</th>\n",
       "      <td>0.911849</td>\n",
       "      <td>0.833542</td>\n",
       "    </tr>\n",
       "    <tr>\n",
       "      <th>Drug2Vec_cbow_200_5_5_2_500_pagerank_pushdown_nb_results_pred</th>\n",
       "      <td>0.694184</td>\n",
       "      <td>0.639279</td>\n",
       "    </tr>\n",
       "    <tr>\n",
       "      <th>Drug2Vec_cbow_200_5_5_2_500_pagerank_pushdown_lr_results_pred</th>\n",
       "      <td>0.719301</td>\n",
       "      <td>0.655518</td>\n",
       "    </tr>\n",
       "    <tr>\n",
       "      <th>Drug2Vec_cbow_200_5_5_2_500_pagerank_pushdown_rf_results_pred</th>\n",
       "      <td>0.894384</td>\n",
       "      <td>0.818888</td>\n",
       "    </tr>\n",
       "    <tr>\n",
       "      <th>Drug2Vec_cbow_200_5_5_2_500_pagerank_split_nb_results_pred</th>\n",
       "      <td>0.675722</td>\n",
       "      <td>0.624430</td>\n",
       "    </tr>\n",
       "    <tr>\n",
       "      <th>Drug2Vec_cbow_200_5_5_2_500_pagerank_split_lr_results_pred</th>\n",
       "      <td>0.705617</td>\n",
       "      <td>0.647001</td>\n",
       "    </tr>\n",
       "    <tr>\n",
       "      <th>Drug2Vec_cbow_200_5_5_2_500_pagerank_split_rf_results_pred</th>\n",
       "      <td>0.894110</td>\n",
       "      <td>0.818489</td>\n",
       "    </tr>\n",
       "    <tr>\n",
       "      <th>Drug2Vec_sg_200_5_5_15_2_500_pagerank_split_nb_results_pred</th>\n",
       "      <td>0.680287</td>\n",
       "      <td>0.641289</td>\n",
       "    </tr>\n",
       "    <tr>\n",
       "      <th>Drug2Vec_sg_200_5_5_15_2_500_pagerank_split_lr_results_pred</th>\n",
       "      <td>0.699387</td>\n",
       "      <td>0.638333</td>\n",
       "    </tr>\n",
       "    <tr>\n",
       "      <th>Drug2Vec_sg_200_5_5_15_2_500_pagerank_split_rf_results_pred</th>\n",
       "      <td>0.898178</td>\n",
       "      <td>0.821070</td>\n",
       "    </tr>\n",
       "    <tr>\n",
       "      <th>Drug2Vec_sg_200_5_5_15_2_500_pagerank_pushdown_nb_results_pred</th>\n",
       "      <td>0.667254</td>\n",
       "      <td>0.603260</td>\n",
       "    </tr>\n",
       "    <tr>\n",
       "      <th>Drug2Vec_sg_200_5_5_15_2_500_pagerank_pushdown_lr_results_pred</th>\n",
       "      <td>0.701445</td>\n",
       "      <td>0.640017</td>\n",
       "    </tr>\n",
       "    <tr>\n",
       "      <th>Drug2Vec_sg_200_5_5_15_2_500_pagerank_pushdown_rf_results_pred</th>\n",
       "      <td>0.897392</td>\n",
       "      <td>0.820219</td>\n",
       "    </tr>\n",
       "    <tr>\n",
       "      <th>drug2vec_DB_KEGG_PHARMGKB_transD_100_nb_results_pred</th>\n",
       "      <td>0.700041</td>\n",
       "      <td>0.671080</td>\n",
       "    </tr>\n",
       "    <tr>\n",
       "      <th>drug2vec_DB_KEGG_PHARMGKB_transD_100_lr_results_pred</th>\n",
       "      <td>0.734405</td>\n",
       "      <td>0.679225</td>\n",
       "    </tr>\n",
       "    <tr>\n",
       "      <th>drug2vec_DB_KEGG_PHARMGKB_transD_100_rf_results_pred</th>\n",
       "      <td>0.908104</td>\n",
       "      <td>0.830069</td>\n",
       "    </tr>\n",
       "    <tr>\n",
       "      <th>drug2vec_DB_KEGG_PHARMGKB_transE_100_nb_results_pred</th>\n",
       "      <td>0.702870</td>\n",
       "      <td>0.669526</td>\n",
       "    </tr>\n",
       "    <tr>\n",
       "      <th>drug2vec_DB_KEGG_PHARMGKB_transE_100_lr_results_pred</th>\n",
       "      <td>0.731556</td>\n",
       "      <td>0.674328</td>\n",
       "    </tr>\n",
       "    <tr>\n",
       "      <th>drug2vec_DB_KEGG_PHARMGKB_transE_100_rf_results_pred</th>\n",
       "      <td>0.908802</td>\n",
       "      <td>0.830829</td>\n",
       "    </tr>\n",
       "  </tbody>\n",
       "</table>\n",
       "</div>"
      ],
      "text/plain": [
       "                                                    test_roc_auc   test_f1\n",
       "Unnamed: 0                                                                \n",
       "Drug2Vec_cbow_200_5_5_2_500_uniform_nb_results_...      0.694757  0.631160\n",
       "Drug2Vec_cbow_200_5_5_2_500_uniform_lr_results_...      0.780291  0.705519\n",
       "Drug2Vec_cbow_200_5_5_2_500_uniform_rf_results_...      0.922453  0.846527\n",
       "drug2vec_DB_KEGG_PHARMGKB_transD_50_nb_results_...      0.700851  0.673188\n",
       "drug2vec_DB_KEGG_PHARMGKB_transD_50_lr_results_...      0.725549  0.671707\n",
       "drug2vec_DB_KEGG_PHARMGKB_transD_50_rf_results_...      0.910275  0.831717\n",
       "Drug2Vec_sg_200_5_5_15_2_500_uniform_nb_results...      0.734760  0.677168\n",
       "Drug2Vec_sg_200_5_5_15_2_500_uniform_lr_results...      0.800513  0.728551\n",
       "Drug2Vec_sg_200_5_5_15_2_500_uniform_rf_results...      0.933717  0.860011\n",
       "drug2vec_DB_KEGG_PHARMGKB_transE_50_nb_results_...      0.698346  0.670829\n",
       "drug2vec_DB_KEGG_PHARMGKB_transE_50_lr_results_...      0.724546  0.672491\n",
       "drug2vec_DB_KEGG_PHARMGKB_transE_50_rf_results_...      0.911849  0.833542\n",
       "Drug2Vec_cbow_200_5_5_2_500_pagerank_pushdown_n...      0.694184  0.639279\n",
       "Drug2Vec_cbow_200_5_5_2_500_pagerank_pushdown_l...      0.719301  0.655518\n",
       "Drug2Vec_cbow_200_5_5_2_500_pagerank_pushdown_r...      0.894384  0.818888\n",
       "Drug2Vec_cbow_200_5_5_2_500_pagerank_split_nb_r...      0.675722  0.624430\n",
       "Drug2Vec_cbow_200_5_5_2_500_pagerank_split_lr_r...      0.705617  0.647001\n",
       "Drug2Vec_cbow_200_5_5_2_500_pagerank_split_rf_r...      0.894110  0.818489\n",
       "Drug2Vec_sg_200_5_5_15_2_500_pagerank_split_nb_...      0.680287  0.641289\n",
       "Drug2Vec_sg_200_5_5_15_2_500_pagerank_split_lr_...      0.699387  0.638333\n",
       "Drug2Vec_sg_200_5_5_15_2_500_pagerank_split_rf_...      0.898178  0.821070\n",
       "Drug2Vec_sg_200_5_5_15_2_500_pagerank_pushdown_...      0.667254  0.603260\n",
       "Drug2Vec_sg_200_5_5_15_2_500_pagerank_pushdown_...      0.701445  0.640017\n",
       "Drug2Vec_sg_200_5_5_15_2_500_pagerank_pushdown_...      0.897392  0.820219\n",
       "drug2vec_DB_KEGG_PHARMGKB_transD_100_nb_results...      0.700041  0.671080\n",
       "drug2vec_DB_KEGG_PHARMGKB_transD_100_lr_results...      0.734405  0.679225\n",
       "drug2vec_DB_KEGG_PHARMGKB_transD_100_rf_results...      0.908104  0.830069\n",
       "drug2vec_DB_KEGG_PHARMGKB_transE_100_nb_results...      0.702870  0.669526\n",
       "drug2vec_DB_KEGG_PHARMGKB_transE_100_lr_results...      0.731556  0.674328\n",
       "drug2vec_DB_KEGG_PHARMGKB_transE_100_rf_results...      0.908802  0.830829"
      ]
     },
     "execution_count": 22,
     "metadata": {},
     "output_type": "execute_result"
    }
   ],
   "source": [
    "data.set_index(data[\"Unnamed: 0\"], inplace=True)\n",
    "yeni=data.drop(\"Unnamed: 0\", axis=1)\n",
    "yeni[[\"test_roc_auc\",\"test_f1\"]]"
   ]
  },
  {
   "cell_type": "code",
   "execution_count": 23,
   "metadata": {},
   "outputs": [
    {
     "data": {
      "text/html": [
       "<div>\n",
       "<style scoped>\n",
       "    .dataframe tbody tr th:only-of-type {\n",
       "        vertical-align: middle;\n",
       "    }\n",
       "\n",
       "    .dataframe tbody tr th {\n",
       "        vertical-align: top;\n",
       "    }\n",
       "\n",
       "    .dataframe thead th {\n",
       "        text-align: right;\n",
       "    }\n",
       "</style>\n",
       "<table border=\"1\" class=\"dataframe\">\n",
       "  <thead>\n",
       "    <tr style=\"text-align: right;\">\n",
       "      <th>Unnamed: 0</th>\n",
       "      <th>Drug2Vec_cbow_200_5_5_2_500_uniform_nb_results_pred</th>\n",
       "      <th>Drug2Vec_cbow_200_5_5_2_500_uniform_lr_results_pred</th>\n",
       "      <th>Drug2Vec_cbow_200_5_5_2_500_uniform_rf_results_pred</th>\n",
       "      <th>drug2vec_DB_KEGG_PHARMGKB_transD_50_nb_results_pred</th>\n",
       "      <th>drug2vec_DB_KEGG_PHARMGKB_transD_50_lr_results_pred</th>\n",
       "      <th>drug2vec_DB_KEGG_PHARMGKB_transD_50_rf_results_pred</th>\n",
       "      <th>Drug2Vec_sg_200_5_5_15_2_500_uniform_nb_results_pred</th>\n",
       "      <th>Drug2Vec_sg_200_5_5_15_2_500_uniform_lr_results_pred</th>\n",
       "      <th>Drug2Vec_sg_200_5_5_15_2_500_uniform_rf_results_pred</th>\n",
       "      <th>drug2vec_DB_KEGG_PHARMGKB_transE_50_nb_results_pred</th>\n",
       "      <th>...</th>\n",
       "      <th>Drug2Vec_sg_200_5_5_15_2_500_pagerank_split_rf_results_pred</th>\n",
       "      <th>Drug2Vec_sg_200_5_5_15_2_500_pagerank_pushdown_nb_results_pred</th>\n",
       "      <th>Drug2Vec_sg_200_5_5_15_2_500_pagerank_pushdown_lr_results_pred</th>\n",
       "      <th>Drug2Vec_sg_200_5_5_15_2_500_pagerank_pushdown_rf_results_pred</th>\n",
       "      <th>drug2vec_DB_KEGG_PHARMGKB_transD_100_nb_results_pred</th>\n",
       "      <th>drug2vec_DB_KEGG_PHARMGKB_transD_100_lr_results_pred</th>\n",
       "      <th>drug2vec_DB_KEGG_PHARMGKB_transD_100_rf_results_pred</th>\n",
       "      <th>drug2vec_DB_KEGG_PHARMGKB_transE_100_nb_results_pred</th>\n",
       "      <th>drug2vec_DB_KEGG_PHARMGKB_transE_100_lr_results_pred</th>\n",
       "      <th>drug2vec_DB_KEGG_PHARMGKB_transE_100_rf_results_pred</th>\n",
       "    </tr>\n",
       "  </thead>\n",
       "  <tbody>\n",
       "    <tr>\n",
       "      <th>test_roc_auc</th>\n",
       "      <td>0.694757</td>\n",
       "      <td>0.780291</td>\n",
       "      <td>0.922453</td>\n",
       "      <td>0.700851</td>\n",
       "      <td>0.725549</td>\n",
       "      <td>0.910275</td>\n",
       "      <td>0.734760</td>\n",
       "      <td>0.800513</td>\n",
       "      <td>0.933717</td>\n",
       "      <td>0.698346</td>\n",
       "      <td>...</td>\n",
       "      <td>0.898178</td>\n",
       "      <td>0.667254</td>\n",
       "      <td>0.701445</td>\n",
       "      <td>0.897392</td>\n",
       "      <td>0.700041</td>\n",
       "      <td>0.734405</td>\n",
       "      <td>0.908104</td>\n",
       "      <td>0.702870</td>\n",
       "      <td>0.731556</td>\n",
       "      <td>0.908802</td>\n",
       "    </tr>\n",
       "    <tr>\n",
       "      <th>test_f1</th>\n",
       "      <td>0.631160</td>\n",
       "      <td>0.705519</td>\n",
       "      <td>0.846527</td>\n",
       "      <td>0.673188</td>\n",
       "      <td>0.671707</td>\n",
       "      <td>0.831717</td>\n",
       "      <td>0.677168</td>\n",
       "      <td>0.728551</td>\n",
       "      <td>0.860011</td>\n",
       "      <td>0.670829</td>\n",
       "      <td>...</td>\n",
       "      <td>0.821070</td>\n",
       "      <td>0.603260</td>\n",
       "      <td>0.640017</td>\n",
       "      <td>0.820219</td>\n",
       "      <td>0.671080</td>\n",
       "      <td>0.679225</td>\n",
       "      <td>0.830069</td>\n",
       "      <td>0.669526</td>\n",
       "      <td>0.674328</td>\n",
       "      <td>0.830829</td>\n",
       "    </tr>\n",
       "  </tbody>\n",
       "</table>\n",
       "<p>2 rows × 30 columns</p>\n",
       "</div>"
      ],
      "text/plain": [
       "Unnamed: 0    Drug2Vec_cbow_200_5_5_2_500_uniform_nb_results_pred  \\\n",
       "test_roc_auc                                           0.694757     \n",
       "test_f1                                                0.631160     \n",
       "\n",
       "Unnamed: 0    Drug2Vec_cbow_200_5_5_2_500_uniform_lr_results_pred  \\\n",
       "test_roc_auc                                           0.780291     \n",
       "test_f1                                                0.705519     \n",
       "\n",
       "Unnamed: 0    Drug2Vec_cbow_200_5_5_2_500_uniform_rf_results_pred  \\\n",
       "test_roc_auc                                           0.922453     \n",
       "test_f1                                                0.846527     \n",
       "\n",
       "Unnamed: 0    drug2vec_DB_KEGG_PHARMGKB_transD_50_nb_results_pred  \\\n",
       "test_roc_auc                                           0.700851     \n",
       "test_f1                                                0.673188     \n",
       "\n",
       "Unnamed: 0    drug2vec_DB_KEGG_PHARMGKB_transD_50_lr_results_pred  \\\n",
       "test_roc_auc                                           0.725549     \n",
       "test_f1                                                0.671707     \n",
       "\n",
       "Unnamed: 0    drug2vec_DB_KEGG_PHARMGKB_transD_50_rf_results_pred  \\\n",
       "test_roc_auc                                           0.910275     \n",
       "test_f1                                                0.831717     \n",
       "\n",
       "Unnamed: 0    Drug2Vec_sg_200_5_5_15_2_500_uniform_nb_results_pred  \\\n",
       "test_roc_auc                                           0.734760      \n",
       "test_f1                                                0.677168      \n",
       "\n",
       "Unnamed: 0    Drug2Vec_sg_200_5_5_15_2_500_uniform_lr_results_pred  \\\n",
       "test_roc_auc                                           0.800513      \n",
       "test_f1                                                0.728551      \n",
       "\n",
       "Unnamed: 0    Drug2Vec_sg_200_5_5_15_2_500_uniform_rf_results_pred  \\\n",
       "test_roc_auc                                           0.933717      \n",
       "test_f1                                                0.860011      \n",
       "\n",
       "Unnamed: 0    drug2vec_DB_KEGG_PHARMGKB_transE_50_nb_results_pred  \\\n",
       "test_roc_auc                                           0.698346     \n",
       "test_f1                                                0.670829     \n",
       "\n",
       "Unnamed: 0                            ...                           \\\n",
       "test_roc_auc                          ...                            \n",
       "test_f1                               ...                            \n",
       "\n",
       "Unnamed: 0    Drug2Vec_sg_200_5_5_15_2_500_pagerank_split_rf_results_pred  \\\n",
       "test_roc_auc                                           0.898178             \n",
       "test_f1                                                0.821070             \n",
       "\n",
       "Unnamed: 0    Drug2Vec_sg_200_5_5_15_2_500_pagerank_pushdown_nb_results_pred  \\\n",
       "test_roc_auc                                           0.667254                \n",
       "test_f1                                                0.603260                \n",
       "\n",
       "Unnamed: 0    Drug2Vec_sg_200_5_5_15_2_500_pagerank_pushdown_lr_results_pred  \\\n",
       "test_roc_auc                                           0.701445                \n",
       "test_f1                                                0.640017                \n",
       "\n",
       "Unnamed: 0    Drug2Vec_sg_200_5_5_15_2_500_pagerank_pushdown_rf_results_pred  \\\n",
       "test_roc_auc                                           0.897392                \n",
       "test_f1                                                0.820219                \n",
       "\n",
       "Unnamed: 0    drug2vec_DB_KEGG_PHARMGKB_transD_100_nb_results_pred  \\\n",
       "test_roc_auc                                           0.700041      \n",
       "test_f1                                                0.671080      \n",
       "\n",
       "Unnamed: 0    drug2vec_DB_KEGG_PHARMGKB_transD_100_lr_results_pred  \\\n",
       "test_roc_auc                                           0.734405      \n",
       "test_f1                                                0.679225      \n",
       "\n",
       "Unnamed: 0    drug2vec_DB_KEGG_PHARMGKB_transD_100_rf_results_pred  \\\n",
       "test_roc_auc                                           0.908104      \n",
       "test_f1                                                0.830069      \n",
       "\n",
       "Unnamed: 0    drug2vec_DB_KEGG_PHARMGKB_transE_100_nb_results_pred  \\\n",
       "test_roc_auc                                           0.702870      \n",
       "test_f1                                                0.669526      \n",
       "\n",
       "Unnamed: 0    drug2vec_DB_KEGG_PHARMGKB_transE_100_lr_results_pred  \\\n",
       "test_roc_auc                                           0.731556      \n",
       "test_f1                                                0.674328      \n",
       "\n",
       "Unnamed: 0    drug2vec_DB_KEGG_PHARMGKB_transE_100_rf_results_pred  \n",
       "test_roc_auc                                           0.908802     \n",
       "test_f1                                                0.830829     \n",
       "\n",
       "[2 rows x 30 columns]"
      ]
     },
     "execution_count": 23,
     "metadata": {},
     "output_type": "execute_result"
    }
   ],
   "source": [
    "yeni[[\"test_roc_auc\",\"test_f1\"]].T"
   ]
  },
  {
   "cell_type": "code",
   "execution_count": null,
   "metadata": {
    "collapsed": true
   },
   "outputs": [],
   "source": []
  },
  {
   "cell_type": "code",
   "execution_count": 13,
   "metadata": {
    "collapsed": true
   },
   "outputs": [],
   "source": [
    "import pandas as pd\n",
    "df = pd.read_csv('Drug2Vec_sg_200_5_5_15_2_500_uniform_rf_results_C1.csv',index_col=0)"
   ]
  },
  {
   "cell_type": "code",
   "execution_count": 12,
   "metadata": {
    "collapsed": true
   },
   "outputs": [],
   "source": [
    "f1_scores = pd.DataFrame()"
   ]
  },
  {
   "cell_type": "code",
   "execution_count": 14,
   "metadata": {},
   "outputs": [
    {
     "data": {
      "text/html": [
       "<div>\n",
       "<style scoped>\n",
       "    .dataframe tbody tr th:only-of-type {\n",
       "        vertical-align: middle;\n",
       "    }\n",
       "\n",
       "    .dataframe tbody tr th {\n",
       "        vertical-align: top;\n",
       "    }\n",
       "\n",
       "    .dataframe thead th {\n",
       "        text-align: right;\n",
       "    }\n",
       "</style>\n",
       "<table border=\"1\" class=\"dataframe\">\n",
       "  <thead>\n",
       "    <tr style=\"text-align: right;\">\n",
       "      <th></th>\n",
       "      <th>accuracy</th>\n",
       "      <th>average_precision</th>\n",
       "      <th>f1</th>\n",
       "      <th>precision</th>\n",
       "      <th>recall</th>\n",
       "      <th>roc_auc</th>\n",
       "    </tr>\n",
       "  </thead>\n",
       "  <tbody>\n",
       "    <tr>\n",
       "      <th>0</th>\n",
       "      <td>0.854288</td>\n",
       "      <td>0.926596</td>\n",
       "      <td>0.858880</td>\n",
       "      <td>0.832573</td>\n",
       "      <td>0.886863</td>\n",
       "      <td>0.932628</td>\n",
       "    </tr>\n",
       "    <tr>\n",
       "      <th>1</th>\n",
       "      <td>0.853613</td>\n",
       "      <td>0.926132</td>\n",
       "      <td>0.858042</td>\n",
       "      <td>0.832908</td>\n",
       "      <td>0.884765</td>\n",
       "      <td>0.932196</td>\n",
       "    </tr>\n",
       "    <tr>\n",
       "      <th>2</th>\n",
       "      <td>0.852752</td>\n",
       "      <td>0.925472</td>\n",
       "      <td>0.857366</td>\n",
       "      <td>0.831261</td>\n",
       "      <td>0.885146</td>\n",
       "      <td>0.931707</td>\n",
       "    </tr>\n",
       "    <tr>\n",
       "      <th>3</th>\n",
       "      <td>0.854065</td>\n",
       "      <td>0.926259</td>\n",
       "      <td>0.858681</td>\n",
       "      <td>0.832536</td>\n",
       "      <td>0.886516</td>\n",
       "      <td>0.932332</td>\n",
       "    </tr>\n",
       "    <tr>\n",
       "      <th>4</th>\n",
       "      <td>0.854503</td>\n",
       "      <td>0.926677</td>\n",
       "      <td>0.858886</td>\n",
       "      <td>0.833882</td>\n",
       "      <td>0.885453</td>\n",
       "      <td>0.932650</td>\n",
       "    </tr>\n",
       "    <tr>\n",
       "      <th>5</th>\n",
       "      <td>0.854652</td>\n",
       "      <td>0.926662</td>\n",
       "      <td>0.859207</td>\n",
       "      <td>0.833021</td>\n",
       "      <td>0.887090</td>\n",
       "      <td>0.932665</td>\n",
       "    </tr>\n",
       "    <tr>\n",
       "      <th>6</th>\n",
       "      <td>0.853684</td>\n",
       "      <td>0.926739</td>\n",
       "      <td>0.858226</td>\n",
       "      <td>0.832231</td>\n",
       "      <td>0.885999</td>\n",
       "      <td>0.932593</td>\n",
       "    </tr>\n",
       "    <tr>\n",
       "      <th>7</th>\n",
       "      <td>0.854769</td>\n",
       "      <td>0.926814</td>\n",
       "      <td>0.859258</td>\n",
       "      <td>0.833472</td>\n",
       "      <td>0.886716</td>\n",
       "      <td>0.932870</td>\n",
       "    </tr>\n",
       "    <tr>\n",
       "      <th>8</th>\n",
       "      <td>0.852596</td>\n",
       "      <td>0.925598</td>\n",
       "      <td>0.857217</td>\n",
       "      <td>0.831238</td>\n",
       "      <td>0.884838</td>\n",
       "      <td>0.931707</td>\n",
       "    </tr>\n",
       "    <tr>\n",
       "      <th>9</th>\n",
       "      <td>0.854015</td>\n",
       "      <td>0.926930</td>\n",
       "      <td>0.858581</td>\n",
       "      <td>0.832517</td>\n",
       "      <td>0.886298</td>\n",
       "      <td>0.932534</td>\n",
       "    </tr>\n",
       "  </tbody>\n",
       "</table>\n",
       "</div>"
      ],
      "text/plain": [
       "   accuracy  average_precision        f1  precision    recall   roc_auc\n",
       "0  0.854288           0.926596  0.858880   0.832573  0.886863  0.932628\n",
       "1  0.853613           0.926132  0.858042   0.832908  0.884765  0.932196\n",
       "2  0.852752           0.925472  0.857366   0.831261  0.885146  0.931707\n",
       "3  0.854065           0.926259  0.858681   0.832536  0.886516  0.932332\n",
       "4  0.854503           0.926677  0.858886   0.833882  0.885453  0.932650\n",
       "5  0.854652           0.926662  0.859207   0.833021  0.887090  0.932665\n",
       "6  0.853684           0.926739  0.858226   0.832231  0.885999  0.932593\n",
       "7  0.854769           0.926814  0.859258   0.833472  0.886716  0.932870\n",
       "8  0.852596           0.925598  0.857217   0.831238  0.884838  0.931707\n",
       "9  0.854015           0.926930  0.858581   0.832517  0.886298  0.932534"
      ]
     },
     "execution_count": 14,
     "metadata": {},
     "output_type": "execute_result"
    }
   ],
   "source": [
    "df"
   ]
  },
  {
   "cell_type": "code",
   "execution_count": 16,
   "metadata": {},
   "outputs": [
    {
     "data": {
      "text/html": [
       "<div>\n",
       "<style scoped>\n",
       "    .dataframe tbody tr th:only-of-type {\n",
       "        vertical-align: middle;\n",
       "    }\n",
       "\n",
       "    .dataframe tbody tr th {\n",
       "        vertical-align: top;\n",
       "    }\n",
       "\n",
       "    .dataframe thead th {\n",
       "        text-align: right;\n",
       "    }\n",
       "</style>\n",
       "<table border=\"1\" class=\"dataframe\">\n",
       "  <thead>\n",
       "    <tr style=\"text-align: right;\">\n",
       "      <th></th>\n",
       "      <th>accuracy</th>\n",
       "      <th>average_precision</th>\n",
       "      <th>f1</th>\n",
       "      <th>precision</th>\n",
       "      <th>recall</th>\n",
       "      <th>roc_auc</th>\n",
       "    </tr>\n",
       "  </thead>\n",
       "  <tbody>\n",
       "    <tr>\n",
       "      <th>0</th>\n",
       "      <td>0.853894</td>\n",
       "      <td>0.926388</td>\n",
       "      <td>0.858434</td>\n",
       "      <td>0.832564</td>\n",
       "      <td>0.885969</td>\n",
       "      <td>0.932388</td>\n",
       "    </tr>\n",
       "  </tbody>\n",
       "</table>\n",
       "</div>"
      ],
      "text/plain": [
       "   accuracy  average_precision        f1  precision    recall   roc_auc\n",
       "0  0.853894           0.926388  0.858434   0.832564  0.885969  0.932388"
      ]
     },
     "execution_count": 16,
     "metadata": {},
     "output_type": "execute_result"
    }
   ],
   "source": [
    "f1_scores.append(df.mean(), ignore_index=True)"
   ]
  },
  {
   "cell_type": "code",
   "execution_count": 24,
   "metadata": {
    "collapsed": true
   },
   "outputs": [],
   "source": [
    "f1_scores = pd.DataFrame(columns=df.columns)\n",
    "f1_scores.loc['C1'] = df.mean()"
   ]
  },
  {
   "cell_type": "code",
   "execution_count": 25,
   "metadata": {},
   "outputs": [
    {
     "data": {
      "text/html": [
       "<div>\n",
       "<style scoped>\n",
       "    .dataframe tbody tr th:only-of-type {\n",
       "        vertical-align: middle;\n",
       "    }\n",
       "\n",
       "    .dataframe tbody tr th {\n",
       "        vertical-align: top;\n",
       "    }\n",
       "\n",
       "    .dataframe thead th {\n",
       "        text-align: right;\n",
       "    }\n",
       "</style>\n",
       "<table border=\"1\" class=\"dataframe\">\n",
       "  <thead>\n",
       "    <tr style=\"text-align: right;\">\n",
       "      <th></th>\n",
       "      <th>accuracy</th>\n",
       "      <th>average_precision</th>\n",
       "      <th>f1</th>\n",
       "      <th>precision</th>\n",
       "      <th>recall</th>\n",
       "      <th>roc_auc</th>\n",
       "    </tr>\n",
       "  </thead>\n",
       "  <tbody>\n",
       "    <tr>\n",
       "      <th>C1</th>\n",
       "      <td>0.853894</td>\n",
       "      <td>0.926388</td>\n",
       "      <td>0.858434</td>\n",
       "      <td>0.832564</td>\n",
       "      <td>0.885969</td>\n",
       "      <td>0.932388</td>\n",
       "    </tr>\n",
       "  </tbody>\n",
       "</table>\n",
       "</div>"
      ],
      "text/plain": [
       "    accuracy  average_precision        f1  precision    recall   roc_auc\n",
       "C1  0.853894           0.926388  0.858434   0.832564  0.885969  0.932388"
      ]
     },
     "execution_count": 25,
     "metadata": {},
     "output_type": "execute_result"
    }
   ],
   "source": [
    "f1_scores.head()"
   ]
  },
  {
   "cell_type": "code",
   "execution_count": 26,
   "metadata": {
    "collapsed": true
   },
   "outputs": [],
   "source": [
    "df = pd.read_csv('Drug2Vec_sg_200_5_5_15_2_500_uniform_rf_results_C2.csv',index_col=0)\n",
    "f1_scores.loc['C2'] = df.mean()"
   ]
  },
  {
   "cell_type": "code",
   "execution_count": 27,
   "metadata": {
    "collapsed": true
   },
   "outputs": [],
   "source": [
    "df = pd.read_csv('Drug2Vec_sg_200_5_5_15_2_500_uniform_rf_results_C3.csv',index_col=0)\n",
    "f1_scores.loc['C3'] = df.mean()"
   ]
  },
  {
   "cell_type": "code",
   "execution_count": 177,
   "metadata": {},
   "outputs": [
    {
     "data": {
      "text/html": [
       "<div>\n",
       "<style scoped>\n",
       "    .dataframe tbody tr th:only-of-type {\n",
       "        vertical-align: middle;\n",
       "    }\n",
       "\n",
       "    .dataframe tbody tr th {\n",
       "        vertical-align: top;\n",
       "    }\n",
       "\n",
       "    .dataframe thead th {\n",
       "        text-align: right;\n",
       "    }\n",
       "</style>\n",
       "<table border=\"1\" class=\"dataframe\">\n",
       "  <thead>\n",
       "    <tr style=\"text-align: right;\">\n",
       "      <th></th>\n",
       "      <th>accuracy</th>\n",
       "      <th>roc_auc</th>\n",
       "      <th>average_precision</th>\n",
       "      <th>precision</th>\n",
       "      <th>recall</th>\n",
       "      <th>f1</th>\n",
       "    </tr>\n",
       "  </thead>\n",
       "  <tbody>\n",
       "    <tr>\n",
       "      <th>rfC1</th>\n",
       "      <td>0.853894</td>\n",
       "      <td>0.932388</td>\n",
       "      <td>0.926388</td>\n",
       "      <td>0.832564</td>\n",
       "      <td>0.885969</td>\n",
       "      <td>0.858434</td>\n",
       "    </tr>\n",
       "    <tr>\n",
       "      <th>rfC2</th>\n",
       "      <td>0.772772</td>\n",
       "      <td>0.866832</td>\n",
       "      <td>0.858227</td>\n",
       "      <td>0.817706</td>\n",
       "      <td>0.702180</td>\n",
       "      <td>0.755278</td>\n",
       "    </tr>\n",
       "    <tr>\n",
       "      <th>rfC3</th>\n",
       "      <td>0.643234</td>\n",
       "      <td>0.772667</td>\n",
       "      <td>0.771645</td>\n",
       "      <td>0.843833</td>\n",
       "      <td>0.351830</td>\n",
       "      <td>0.494650</td>\n",
       "    </tr>\n",
       "    <tr>\n",
       "      <th>lrC1</th>\n",
       "      <td>0.728070</td>\n",
       "      <td>0.802663</td>\n",
       "      <td>0.798376</td>\n",
       "      <td>0.724471</td>\n",
       "      <td>0.736101</td>\n",
       "      <td>0.730235</td>\n",
       "    </tr>\n",
       "    <tr>\n",
       "      <th>lrC2</th>\n",
       "      <td>0.714100</td>\n",
       "      <td>0.785255</td>\n",
       "      <td>0.780402</td>\n",
       "      <td>0.716338</td>\n",
       "      <td>0.709294</td>\n",
       "      <td>0.712509</td>\n",
       "    </tr>\n",
       "    <tr>\n",
       "      <th>lrC3</th>\n",
       "      <td>0.698369</td>\n",
       "      <td>0.766068</td>\n",
       "      <td>0.759595</td>\n",
       "      <td>0.705755</td>\n",
       "      <td>0.681607</td>\n",
       "      <td>0.692171</td>\n",
       "    </tr>\n",
       "    <tr>\n",
       "      <th>nbC1</th>\n",
       "      <td>0.674098</td>\n",
       "      <td>0.735208</td>\n",
       "      <td>0.746097</td>\n",
       "      <td>0.671097</td>\n",
       "      <td>0.682882</td>\n",
       "      <td>0.676933</td>\n",
       "    </tr>\n",
       "    <tr>\n",
       "      <th>nbC2</th>\n",
       "      <td>0.671045</td>\n",
       "      <td>0.731219</td>\n",
       "      <td>0.741337</td>\n",
       "      <td>0.668748</td>\n",
       "      <td>0.678299</td>\n",
       "      <td>0.673184</td>\n",
       "    </tr>\n",
       "    <tr>\n",
       "      <th>nbC3</th>\n",
       "      <td>0.667041</td>\n",
       "      <td>0.726054</td>\n",
       "      <td>0.735498</td>\n",
       "      <td>0.666358</td>\n",
       "      <td>0.670727</td>\n",
       "      <td>0.667230</td>\n",
       "    </tr>\n",
       "  </tbody>\n",
       "</table>\n",
       "</div>"
      ],
      "text/plain": [
       "      accuracy   roc_auc  average_precision  precision    recall        f1\n",
       "rfC1  0.853894  0.932388           0.926388   0.832564  0.885969  0.858434\n",
       "rfC2  0.772772  0.866832           0.858227   0.817706  0.702180  0.755278\n",
       "rfC3  0.643234  0.772667           0.771645   0.843833  0.351830  0.494650\n",
       "lrC1  0.728070  0.802663           0.798376   0.724471  0.736101  0.730235\n",
       "lrC2  0.714100  0.785255           0.780402   0.716338  0.709294  0.712509\n",
       "lrC3  0.698369  0.766068           0.759595   0.705755  0.681607  0.692171\n",
       "nbC1  0.674098  0.735208           0.746097   0.671097  0.682882  0.676933\n",
       "nbC2  0.671045  0.731219           0.741337   0.668748  0.678299  0.673184\n",
       "nbC3  0.667041  0.726054           0.735498   0.666358  0.670727  0.667230"
      ]
     },
     "execution_count": 177,
     "metadata": {},
     "output_type": "execute_result"
    }
   ],
   "source": [
    "methods=['rf','lr','nb']\n",
    "classes =['C1','C2','C3']\n",
    "\n",
    "cols =['accuracy','roc_auc', 'average_precision', 'precision', 'recall', 'f1']\n",
    "scores = pd.DataFrame(columns=cols)\n",
    "for m in methods:\n",
    "    for c in classes:\n",
    "        fn = 'Drug2Vec_sg_200_5_5_15_2_500_uniform_%s_results_%s.csv'%(m,c)\n",
    "        df = pd.read_csv(fn,index_col=0)\n",
    "        scores.loc[m+c] = df.mean()\n",
    "\n",
    "scores1 = pd.DataFrame()        \n",
    "df = pd.read_csv('Drug2Vec_sg_200_5_5_15_2_500_uniform_rf_results_pred.csv',index_col=0)\n",
    "#display(df)\n",
    "#scores.loc['rfCV'] =df.mean()\n",
    "scores1 =scores1.append(df.mean(),ignore_index=True)\n",
    "df = pd.read_csv('Drug2Vec_sg_200_5_5_15_2_500_uniform_lr_results_pred.csv',index_col=0)\n",
    "#scores.loc['lrCV'] =df.mean()\n",
    "scores1= scores1.append(df.mean(),ignore_index=True)\n",
    "df = pd.read_csv('Drug2Vec_sg_200_5_5_15_2_500_uniform_nb_results_pred.csv',index_col=0)\n",
    "#scores.loc['nbCV'] =df.mean()\n",
    "scores1 =scores1.append(df.mean(),ignore_index=True)\n",
    "cols =['accuracy','roc_auc', 'average_precision', 'precision', 'recall', 'f1']\n",
    "cols = [ 'test_'+c for c in cols]\n",
    "scores1[cols]\n",
    "scores"
   ]
  },
  {
   "cell_type": "code",
   "execution_count": 32,
   "metadata": {},
   "outputs": [
    {
     "data": {
      "text/plain": [
       "<matplotlib.axes._subplots.AxesSubplot at 0x7f3029fee208>"
      ]
     },
     "execution_count": 32,
     "metadata": {},
     "output_type": "execute_result"
    },
    {
     "data": {
      "image/png": "[encoded data removed]",
      "text/plain": [
       "<matplotlib.figure.Figure at 0x7f3029ff53c8>"
      ]
     },
     "metadata": {},
     "output_type": "display_data"
    }
   ],
   "source": [
    "f1_scores.f1.plot(kind='bar')"
   ]
  },
  {
   "cell_type": "code",
   "execution_count": 31,
   "metadata": {
    "collapsed": true
   },
   "outputs": [],
   "source": [
    "%matplotlib inline"
   ]
  },
  {
   "cell_type": "code",
   "execution_count": 165,
   "metadata": {
    "collapsed": true
   },
   "outputs": [],
   "source": [
    "methods=['rf','lr','nb']\n",
    "classes =['C1','C2','C3']\n",
    "cols = ['Method','Class','F-score']\n",
    "       \n",
    "f1_scores = pd.DataFrame(columns=cols)\n",
    "for m in methods:\n",
    "    for c in classes:\n",
    "        fn = 'Drug2Vec_sg_200_5_5_15_2_500_uniform_%s_results_%s.csv'%(m,c)\n",
    "        df = pd.read_csv(fn,index_col=0)\n",
    "        f1_scores.loc[m+c]= [m,c, df.f1.mean()]\n",
    "        #f1_scores.loc[m+c] = df.mean()"
   ]
  },
  {
   "cell_type": "code",
   "execution_count": 166,
   "metadata": {
    "scrolled": true
   },
   "outputs": [
    {
     "data": {
      "text/html": [
       "<div>\n",
       "<style scoped>\n",
       "    .dataframe tbody tr th:only-of-type {\n",
       "        vertical-align: middle;\n",
       "    }\n",
       "\n",
       "    .dataframe tbody tr th {\n",
       "        vertical-align: top;\n",
       "    }\n",
       "\n",
       "    .dataframe thead th {\n",
       "        text-align: right;\n",
       "    }\n",
       "</style>\n",
       "<table border=\"1\" class=\"dataframe\">\n",
       "  <thead>\n",
       "    <tr style=\"text-align: right;\">\n",
       "      <th></th>\n",
       "      <th>Method</th>\n",
       "      <th>Class</th>\n",
       "      <th>F-score</th>\n",
       "    </tr>\n",
       "  </thead>\n",
       "  <tbody>\n",
       "    <tr>\n",
       "      <th>rfC1</th>\n",
       "      <td>rf</td>\n",
       "      <td>C1</td>\n",
       "      <td>0.858434</td>\n",
       "    </tr>\n",
       "    <tr>\n",
       "      <th>rfC2</th>\n",
       "      <td>rf</td>\n",
       "      <td>C2</td>\n",
       "      <td>0.755278</td>\n",
       "    </tr>\n",
       "    <tr>\n",
       "      <th>rfC3</th>\n",
       "      <td>rf</td>\n",
       "      <td>C3</td>\n",
       "      <td>0.494650</td>\n",
       "    </tr>\n",
       "    <tr>\n",
       "      <th>lrC1</th>\n",
       "      <td>lr</td>\n",
       "      <td>C1</td>\n",
       "      <td>0.730235</td>\n",
       "    </tr>\n",
       "    <tr>\n",
       "      <th>lrC2</th>\n",
       "      <td>lr</td>\n",
       "      <td>C2</td>\n",
       "      <td>0.712509</td>\n",
       "    </tr>\n",
       "    <tr>\n",
       "      <th>lrC3</th>\n",
       "      <td>lr</td>\n",
       "      <td>C3</td>\n",
       "      <td>0.692171</td>\n",
       "    </tr>\n",
       "    <tr>\n",
       "      <th>nbC1</th>\n",
       "      <td>nb</td>\n",
       "      <td>C1</td>\n",
       "      <td>0.676933</td>\n",
       "    </tr>\n",
       "    <tr>\n",
       "      <th>nbC2</th>\n",
       "      <td>nb</td>\n",
       "      <td>C2</td>\n",
       "      <td>0.673184</td>\n",
       "    </tr>\n",
       "    <tr>\n",
       "      <th>nbC3</th>\n",
       "      <td>nb</td>\n",
       "      <td>C3</td>\n",
       "      <td>0.667230</td>\n",
       "    </tr>\n",
       "  </tbody>\n",
       "</table>\n",
       "</div>"
      ],
      "text/plain": [
       "     Method Class   F-score\n",
       "rfC1     rf    C1  0.858434\n",
       "rfC2     rf    C2  0.755278\n",
       "rfC3     rf    C3  0.494650\n",
       "lrC1     lr    C1  0.730235\n",
       "lrC2     lr    C2  0.712509\n",
       "lrC3     lr    C3  0.692171\n",
       "nbC1     nb    C1  0.676933\n",
       "nbC2     nb    C2  0.673184\n",
       "nbC3     nb    C3  0.667230"
      ]
     },
     "execution_count": 166,
     "metadata": {},
     "output_type": "execute_result"
    }
   ],
   "source": [
    "f1_scores"
   ]
  },
  {
   "cell_type": "code",
   "execution_count": 153,
   "metadata": {},
   "outputs": [
    {
     "data": {
      "image/png": "[encoded data removed]",
      "text/plain": [
       "<matplotlib.figure.Figure at 0x7f3026a9db70>"
      ]
     },
     "metadata": {},
     "output_type": "display_data"
    }
   ],
   "source": [
    "ax= f1_scores.groupby('Method')['F-score'].plot(kind='line', ylim=[0,1.0], legend=True, xticks=[0,1,2])\n",
    "#ax.legend([\"Logistic\", \"Naive Bayes\",\"Radom Forest\"]);"
   ]
  },
  {
   "cell_type": "code",
   "execution_count": 66,
   "metadata": {
    "collapsed": true
   },
   "outputs": [],
   "source": [
    "import matplotlib.pyplot as plt\n",
    "import numpy as np"
   ]
  },
  {
   "cell_type": "code",
   "execution_count": 56,
   "metadata": {},
   "outputs": [
    {
     "data": {
      "text/plain": [
       "<matplotlib.text.Text at 0x7f30272ade10>"
      ]
     },
     "execution_count": 56,
     "metadata": {},
     "output_type": "execute_result"
    },
    {
     "data": {
      "image/png": "[encoded data removed]",
      "text/plain": [
       "<matplotlib.figure.Figure at 0x7f30272eef98>"
      ]
     },
     "metadata": {},
     "output_type": "display_data"
    }
   ],
   "source": [
    "plt.xlabel([\"C1\",\"C2\",\"C3\"])"
   ]
  },
  {
   "cell_type": "code",
   "execution_count": 70,
   "metadata": {
    "collapsed": true
   },
   "outputs": [],
   "source": [
    "f1_temp =f1_scores.set_index(['Method','Class'])"
   ]
  },
  {
   "cell_type": "code",
   "execution_count": 108,
   "metadata": {},
   "outputs": [
    {
     "data": {
      "text/plain": [
       "Method\n",
       "lr    Axes(0.125,0.125;0.775x0.775)\n",
       "nb    Axes(0.125,0.125;0.775x0.775)\n",
       "rf    Axes(0.125,0.125;0.775x0.775)\n",
       "Name: F-score, dtype: object"
      ]
     },
     "execution_count": 108,
     "metadata": {},
     "output_type": "execute_result"
    },
    {
     "data": {
      "image/png": "[encoded data removed]",
      "text/plain": [
       "<matplotlib.figure.Figure at 0x7f302710a588>"
      ]
     },
     "metadata": {},
     "output_type": "display_data"
    }
   ],
   "source": [
    "f1_temp.groupby('Method')['F-score'].plot(kind='line',  xticks=[0,1,2])"
   ]
  },
  {
   "cell_type": "code",
   "execution_count": 75,
   "metadata": {},
   "outputs": [
    {
     "data": {
      "text/plain": [
       "<pandas.core.groupby.SeriesGroupBy object at 0x7f3026f92a90>"
      ]
     },
     "execution_count": 75,
     "metadata": {},
     "output_type": "execute_result"
    }
   ],
   "source": [
    "f1_temp['F-score'].groupby('Method')"
   ]
  },
  {
   "cell_type": "code",
   "execution_count": 79,
   "metadata": {
    "collapsed": true
   },
   "outputs": [],
   "source": [
    "df=f1_scores"
   ]
  },
  {
   "cell_type": "code",
   "execution_count": 125,
   "metadata": {},
   "outputs": [
    {
     "data": {
      "text/plain": [
       "<matplotlib.figure.Figure at 0x7f30270f74e0>"
      ]
     },
     "metadata": {},
     "output_type": "display_data"
    }
   ],
   "source": [
    "ax = plt.figure()\n",
    "ax_fig ={}\n",
    "y_all=list()\n",
    "for title, group in df.groupby('Method'):\n",
    "    y = group['F-score']\n",
    "    x= group['Class']\n",
    "    y_all.append(y.values)\n",
    "    #ax_fig[title]= group.plot(x='Class', y='F-score', title=title, ylim=[0,1.0], xticks=[0,1,2])"
   ]
  },
  {
   "cell_type": "code",
   "execution_count": 99,
   "metadata": {},
   "outputs": [
    {
     "data": {
      "text/plain": [
       "<matplotlib.axes._subplots.AxesSubplot at 0x7f30271e9278>"
      ]
     },
     "execution_count": 99,
     "metadata": {},
     "output_type": "execute_result"
    }
   ],
   "source": [
    "ax_fig['rf']\n",
    "ax_fig['lr']\n",
    "ax_fig['nb']"
   ]
  },
  {
   "cell_type": "code",
   "execution_count": 102,
   "metadata": {
    "collapsed": true
   },
   "outputs": [],
   "source": [
    "plt.show()"
   ]
  },
  {
   "cell_type": "code",
   "execution_count": 106,
   "metadata": {},
   "outputs": [
    {
     "data": {
      "text/html": [
       "<div>\n",
       "<style scoped>\n",
       "    .dataframe tbody tr th:only-of-type {\n",
       "        vertical-align: middle;\n",
       "    }\n",
       "\n",
       "    .dataframe tbody tr th {\n",
       "        vertical-align: top;\n",
       "    }\n",
       "\n",
       "    .dataframe thead th {\n",
       "        text-align: right;\n",
       "    }\n",
       "</style>\n",
       "<table border=\"1\" class=\"dataframe\">\n",
       "  <thead>\n",
       "    <tr style=\"text-align: right;\">\n",
       "      <th></th>\n",
       "      <th>Method</th>\n",
       "      <th>Class</th>\n",
       "      <th>F-score</th>\n",
       "    </tr>\n",
       "  </thead>\n",
       "  <tbody>\n",
       "    <tr>\n",
       "      <th>rfC1</th>\n",
       "      <td>rf</td>\n",
       "      <td>C1</td>\n",
       "      <td>0.858434</td>\n",
       "    </tr>\n",
       "    <tr>\n",
       "      <th>rfC2</th>\n",
       "      <td>rf</td>\n",
       "      <td>C2</td>\n",
       "      <td>0.755278</td>\n",
       "    </tr>\n",
       "    <tr>\n",
       "      <th>rfC3</th>\n",
       "      <td>rf</td>\n",
       "      <td>C3</td>\n",
       "      <td>0.494650</td>\n",
       "    </tr>\n",
       "    <tr>\n",
       "      <th>lrC1</th>\n",
       "      <td>lr</td>\n",
       "      <td>C1</td>\n",
       "      <td>0.730235</td>\n",
       "    </tr>\n",
       "    <tr>\n",
       "      <th>lrC2</th>\n",
       "      <td>lr</td>\n",
       "      <td>C2</td>\n",
       "      <td>0.712509</td>\n",
       "    </tr>\n",
       "    <tr>\n",
       "      <th>lrC3</th>\n",
       "      <td>lr</td>\n",
       "      <td>C3</td>\n",
       "      <td>0.692171</td>\n",
       "    </tr>\n",
       "    <tr>\n",
       "      <th>nbC1</th>\n",
       "      <td>nb</td>\n",
       "      <td>C1</td>\n",
       "      <td>0.676933</td>\n",
       "    </tr>\n",
       "    <tr>\n",
       "      <th>nbC2</th>\n",
       "      <td>nb</td>\n",
       "      <td>C2</td>\n",
       "      <td>0.673184</td>\n",
       "    </tr>\n",
       "    <tr>\n",
       "      <th>nbC3</th>\n",
       "      <td>nb</td>\n",
       "      <td>C3</td>\n",
       "      <td>0.667230</td>\n",
       "    </tr>\n",
       "  </tbody>\n",
       "</table>\n",
       "</div>"
      ],
      "text/plain": [
       "     Method Class   F-score\n",
       "rfC1     rf    C1  0.858434\n",
       "rfC2     rf    C2  0.755278\n",
       "rfC3     rf    C3  0.494650\n",
       "lrC1     lr    C1  0.730235\n",
       "lrC2     lr    C2  0.712509\n",
       "lrC3     lr    C3  0.692171\n",
       "nbC1     nb    C1  0.676933\n",
       "nbC2     nb    C2  0.673184\n",
       "nbC3     nb    C3  0.667230"
      ]
     },
     "execution_count": 106,
     "metadata": {},
     "output_type": "execute_result"
    }
   ],
   "source": [
    "df"
   ]
  },
  {
   "cell_type": "code",
   "execution_count": 115,
   "metadata": {},
   "outputs": [
    {
     "data": {
      "text/plain": [
       "rfC1    0.858434\n",
       "rfC2    0.755278\n",
       "rfC3    0.494650\n",
       "Name: F-score, dtype: float64"
      ]
     },
     "execution_count": 115,
     "metadata": {},
     "output_type": "execute_result"
    }
   ],
   "source": [
    "y"
   ]
  },
  {
   "cell_type": "code",
   "execution_count": 126,
   "metadata": {},
   "outputs": [
    {
     "data": {
      "text/plain": [
       "[array([0.7302351 , 0.71250919, 0.69217125]),\n",
       " array([0.67693336, 0.67318429, 0.66723021]),\n",
       " array([0.85843447, 0.7552777 , 0.49465019])]"
      ]
     },
     "execution_count": 126,
     "metadata": {},
     "output_type": "execute_result"
    }
   ],
   "source": [
    "y_all"
   ]
  },
  {
   "cell_type": "code",
   "execution_count": 124,
   "metadata": {},
   "outputs": [
    {
     "data": {
      "text/plain": [
       "[lrC1    0.730235\n",
       " lrC2    0.712509\n",
       " lrC3    0.692171\n",
       " Name: F-score, dtype: float64, nbC1    0.676933\n",
       " nbC2    0.673184\n",
       " nbC3    0.667230\n",
       " Name: F-score, dtype: float64, rfC1    0.858434\n",
       " rfC2    0.755278\n",
       " rfC3    0.494650\n",
       " Name: F-score, dtype: float64]"
      ]
     },
     "execution_count": 124,
     "metadata": {},
     "output_type": "execute_result"
    }
   ],
   "source": [
    "y_all"
   ]
  },
  {
   "cell_type": "code",
   "execution_count": 131,
   "metadata": {},
   "outputs": [
    {
     "data": {
      "text/plain": [
       "[]"
      ]
     },
     "execution_count": 131,
     "metadata": {},
     "output_type": "execute_result"
    },
    {
     "data": {
      "image/png": "[encoded data removed]",
      "text/plain": [
       "<matplotlib.figure.Figure at 0x7f3027d0e1d0>"
      ]
     },
     "metadata": {},
     "output_type": "display_data"
    }
   ],
   "source": [
    "plt.plot(x=x,y=y_all[0)"
   ]
  },
  {
   "cell_type": "code",
   "execution_count": 128,
   "metadata": {},
   "outputs": [
    {
     "data": {
      "text/plain": [
       "rfC1    C1\n",
       "rfC2    C2\n",
       "rfC3    C3\n",
       "Name: Class, dtype: object"
      ]
     },
     "execution_count": 128,
     "metadata": {},
     "output_type": "execute_result"
    }
   ],
   "source": [
    "x"
   ]
  },
  {
   "cell_type": "code",
   "execution_count": 129,
   "metadata": {},
   "outputs": [
    {
     "data": {
      "text/plain": [
       "rfC1    0.858434\n",
       "rfC2    0.755278\n",
       "rfC3    0.494650\n",
       "Name: F-score, dtype: float64"
      ]
     },
     "execution_count": 129,
     "metadata": {},
     "output_type": "execute_result"
    }
   ],
   "source": [
    "y"
   ]
  },
  {
   "cell_type": "code",
   "execution_count": 130,
   "metadata": {},
   "outputs": [
    {
     "data": {
      "text/plain": [
       "[array([0.7302351 , 0.71250919, 0.69217125]),\n",
       " array([0.67693336, 0.67318429, 0.66723021]),\n",
       " array([0.85843447, 0.7552777 , 0.49465019])]"
      ]
     },
     "execution_count": 130,
     "metadata": {},
     "output_type": "execute_result"
    }
   ],
   "source": [
    "y_all"
   ]
  },
  {
   "cell_type": "code",
   "execution_count": null,
   "metadata": {
    "collapsed": true
   },
   "outputs": [],
   "source": []
  }
 ],
 "metadata": {
  "kernelspec": {
   "display_name": "Python 3",
   "language": "python",
   "name": "python3"
  },
  "language_info": {
   "codemirror_mode": {
    "name": "ipython",
    "version": 3
   },
   "file_extension": ".py",
   "mimetype": "text/x-python",
   "name": "python",
   "nbconvert_exporter": "python",
   "pygments_lexer": "ipython3",
   "version": "3.5.2"
  }
 },
 "nbformat": 4,
 "nbformat_minor": 2
}
