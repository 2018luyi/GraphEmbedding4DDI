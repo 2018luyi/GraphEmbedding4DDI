{
 "cells": [
  {
   "cell_type": "code",
   "execution_count": 1,
   "metadata": {},
   "outputs": [
    {
     "name": "stderr",
     "output_type": "stream",
     "text": [
      "/opt/conda/lib/python3.6/site-packages/sklearn/ensemble/weight_boosting.py:29: DeprecationWarning: numpy.core.umath_tests is an internal NumPy module and should not be imported. It will be removed in a future NumPy release.\n",
      "  from numpy.core.umath_tests import inner1d\n"
     ]
    }
   ],
   "source": [
    "import csv\n",
    "import numpy as np\n",
    "import sys\n",
    "import pandas as pd\n",
    "import itertools\n",
    "import math\n",
    "import time\n",
    "import os\n",
    "\n",
    "from sklearn import svm, linear_model, neighbors\n",
    "from sklearn import tree, ensemble\n",
    "from sklearn import metrics\n",
    "from sklearn.naive_bayes import GaussianNB\n",
    "\n",
    "import networkx as nx\n",
    "import random\n",
    "import numbers\n",
    "\n",
    "from sklearn.model_selection import StratifiedKFold\n",
    "\n",
    "from src import disjoint_cv"
   ]
  },
  {
   "cell_type": "markdown",
   "metadata": {},
   "source": [
    "# KEGG DDIs"
   ]
  },
  {
   "cell_type": "code",
   "execution_count": 2,
   "metadata": {},
   "outputs": [
    {
     "data": {
      "text/html": [
       "<div>\n",
       "<style scoped>\n",
       "    .dataframe tbody tr th:only-of-type {\n",
       "        vertical-align: middle;\n",
       "    }\n",
       "\n",
       "    .dataframe tbody tr th {\n",
       "        vertical-align: top;\n",
       "    }\n",
       "\n",
       "    .dataframe thead th {\n",
       "        text-align: right;\n",
       "    }\n",
       "</style>\n",
       "<table border=\"1\" class=\"dataframe\">\n",
       "  <thead>\n",
       "    <tr style=\"text-align: right;\">\n",
       "      <th></th>\n",
       "      <th>Drug1</th>\n",
       "      <th>Drug2</th>\n",
       "    </tr>\n",
       "  </thead>\n",
       "  <tbody>\n",
       "    <tr>\n",
       "      <th>0</th>\n",
       "      <td>DB00114</td>\n",
       "      <td>DB01235</td>\n",
       "    </tr>\n",
       "    <tr>\n",
       "      <th>1</th>\n",
       "      <td>DB00114</td>\n",
       "      <td>DB00413</td>\n",
       "    </tr>\n",
       "    <tr>\n",
       "      <th>2</th>\n",
       "      <td>DB00114</td>\n",
       "      <td>DB00810</td>\n",
       "    </tr>\n",
       "    <tr>\n",
       "      <th>3</th>\n",
       "      <td>DB00114</td>\n",
       "      <td>DB00494</td>\n",
       "    </tr>\n",
       "    <tr>\n",
       "      <th>4</th>\n",
       "      <td>DB00114</td>\n",
       "      <td>DB00323</td>\n",
       "    </tr>\n",
       "  </tbody>\n",
       "</table>\n",
       "</div>"
      ],
      "text/plain": [
       "     Drug1    Drug2\n",
       "0  DB00114  DB01235\n",
       "1  DB00114  DB00413\n",
       "2  DB00114  DB00810\n",
       "3  DB00114  DB00494\n",
       "4  DB00114  DB00323"
      ]
     },
     "execution_count": 2,
     "metadata": {},
     "output_type": "execute_result"
    }
   ],
   "source": [
    "ddi_df = pd.read_csv(\"data/input/ddi_kegg.txt\", sep='\\t')\n",
    "ddi_df.head()"
   ]
  },
  {
   "cell_type": "code",
   "execution_count": 3,
   "metadata": {},
   "outputs": [],
   "source": [
    "featureFilename = \"vectors/DB/RDF2Vec_sg_200_5_5_15_2_500_d5_uniform.txt\"\n",
    "embedding_df = pd.read_csv(featureFilename, delimiter='\\t') \n",
    "embedding_df.Entity =embedding_df.Entity.str[-8:-1]\n",
    "embedding_df.rename(columns={'Entity':'Drug'}, inplace=True)"
   ]
  },
  {
   "cell_type": "code",
   "execution_count": 4,
   "metadata": {},
   "outputs": [
    {
     "name": "stdout",
     "output_type": "stream",
     "text": [
      "Drugs 816\n",
      "Postive size: 19424\n"
     ]
    }
   ],
   "source": [
    "commonDrugs, all_positives = disjoint_cv.getPositivePairs(ddi_df, embedding_df)"
   ]
  },
  {
   "cell_type": "code",
   "execution_count": 5,
   "metadata": {},
   "outputs": [],
   "source": [
    "import findspark\n",
    "findspark.init()\n",
    "\n",
    "from pyspark import SparkConf, SparkContext"
   ]
  },
  {
   "cell_type": "code",
   "execution_count": 6,
   "metadata": {},
   "outputs": [
    {
     "name": "stdout",
     "output_type": "stream",
     "text": [
      "<SparkContext master=local[10] appName=pyspark-shell>\n"
     ]
    }
   ],
   "source": [
    "if False: \n",
    "    sc.stop()\n",
    "\n",
    "config = SparkConf()\n",
    "config.setMaster(\"local[10]\")\n",
    "config.set(\"spark.executor.memory\", \"70g\")\n",
    "config.set('spark.driver.memory', '90g')\n",
    "config.set(\"spark.memory.offHeap.enabled\",True)\n",
    "config.set(\"spark.memory.offHeap.size\",\"50g\") \n",
    "sc = SparkContext(conf=config)\n",
    "print (sc)"
   ]
  },
  {
   "cell_type": "code",
   "execution_count": 7,
   "metadata": {},
   "outputs": [],
   "source": [
    "nb_model = GaussianNB()\n",
    "lr_model = linear_model.LogisticRegression()\n",
    "rf_model = ensemble.RandomForestClassifier(n_estimators=200, max_depth=8, n_jobs=-1)\n",
    "\n",
    "clfs = [('Naive Bayes',nb_model),('Logistic Regression',lr_model),('Random Forest',rf_model)]"
   ]
  },
  {
   "cell_type": "code",
   "execution_count": 18,
   "metadata": {},
   "outputs": [
    {
     "name": "stdout",
     "output_type": "stream",
     "text": [
      "run 0\n",
      "run 1\n",
      "run 2\n",
      "run 3\n",
      "run 4\n",
      "run 5\n",
      "run 6\n",
      "run 9\n"
     ]
    }
   ],
   "source": [
    "n_fold =10 \n",
    "n_run = 10 \n",
    "n_proportion = 1\n",
    "n_seed = 100\n",
    "\n",
    "drugwise_runs, pairwise_runs = disjoint_cv.run_cv10(sc, clfs, embedding_df, commonDrugs, all_positives, n_fold, n_run, n_proportion, n_seed)"
   ]
  },
  {
   "cell_type": "code",
   "execution_count": 21,
   "metadata": {},
   "outputs": [],
   "source": [
    "import os\n",
    "folder= 'results/disjoint/'\n",
    "if not os.path.isdir(folder):\n",
    "    os.mkdir(folder)\n",
    "drugwise_runs.to_csv(folder+ 'KEGG_DCV_runs_sg.csv')\n",
    "pairwise_runs.to_csv(folder+'KEGG_PCV_runs_sg.csv')"
   ]
  },
  {
   "cell_type": "code",
   "execution_count": 24,
   "metadata": {},
   "outputs": [
    {
     "data": {
      "text/html": [
       "<div>\n",
       "<style scoped>\n",
       "    .dataframe tbody tr th:only-of-type {\n",
       "        vertical-align: middle;\n",
       "    }\n",
       "\n",
       "    .dataframe tbody tr th {\n",
       "        vertical-align: top;\n",
       "    }\n",
       "\n",
       "    .dataframe thead th {\n",
       "        text-align: right;\n",
       "    }\n",
       "</style>\n",
       "<table border=\"1\" class=\"dataframe\">\n",
       "  <thead>\n",
       "    <tr style=\"text-align: right;\">\n",
       "      <th></th>\n",
       "      <th>accuracy</th>\n",
       "      <th>average_precision</th>\n",
       "      <th>f1</th>\n",
       "      <th>fold</th>\n",
       "      <th>precision</th>\n",
       "      <th>recall</th>\n",
       "      <th>roc_auc</th>\n",
       "    </tr>\n",
       "    <tr>\n",
       "      <th>method</th>\n",
       "      <th></th>\n",
       "      <th></th>\n",
       "      <th></th>\n",
       "      <th></th>\n",
       "      <th></th>\n",
       "      <th></th>\n",
       "      <th></th>\n",
       "    </tr>\n",
       "  </thead>\n",
       "  <tbody>\n",
       "    <tr>\n",
       "      <th>Logistic Regression</th>\n",
       "      <td>0.645756</td>\n",
       "      <td>0.689302</td>\n",
       "      <td>0.628234</td>\n",
       "      <td>4.5</td>\n",
       "      <td>0.660263</td>\n",
       "      <td>0.601109</td>\n",
       "      <td>0.701222</td>\n",
       "    </tr>\n",
       "    <tr>\n",
       "      <th>Naive Bayes</th>\n",
       "      <td>0.650408</td>\n",
       "      <td>0.705184</td>\n",
       "      <td>0.633540</td>\n",
       "      <td>4.5</td>\n",
       "      <td>0.665007</td>\n",
       "      <td>0.606703</td>\n",
       "      <td>0.709116</td>\n",
       "    </tr>\n",
       "    <tr>\n",
       "      <th>Random Forest</th>\n",
       "      <td>0.709666</td>\n",
       "      <td>0.778186</td>\n",
       "      <td>0.677101</td>\n",
       "      <td>4.5</td>\n",
       "      <td>0.761322</td>\n",
       "      <td>0.610617</td>\n",
       "      <td>0.792456</td>\n",
       "    </tr>\n",
       "  </tbody>\n",
       "</table>\n",
       "</div>"
      ],
      "text/plain": [
       "                     accuracy  average_precision        f1  fold  precision  \\\n",
       "method                                                                        \n",
       "Logistic Regression  0.645756           0.689302  0.628234   4.5   0.660263   \n",
       "Naive Bayes          0.650408           0.705184  0.633540   4.5   0.665007   \n",
       "Random Forest        0.709666           0.778186  0.677101   4.5   0.761322   \n",
       "\n",
       "                       recall   roc_auc  \n",
       "method                                   \n",
       "Logistic Regression  0.601109  0.701222  \n",
       "Naive Bayes          0.606703  0.709116  \n",
       "Random Forest        0.610617  0.792456  "
      ]
     },
     "execution_count": 24,
     "metadata": {},
     "output_type": "execute_result"
    }
   ],
   "source": [
    "drugwise_runs.groupby(['method','run']).mean().groupby('method').mean()"
   ]
  },
  {
   "cell_type": "markdown",
   "metadata": {},
   "source": [
    "# Twosides DDIs"
   ]
  },
  {
   "cell_type": "code",
   "execution_count": 25,
   "metadata": {},
   "outputs": [
    {
     "data": {
      "text/html": [
       "<div>\n",
       "<style scoped>\n",
       "    .dataframe tbody tr th:only-of-type {\n",
       "        vertical-align: middle;\n",
       "    }\n",
       "\n",
       "    .dataframe tbody tr th {\n",
       "        vertical-align: top;\n",
       "    }\n",
       "\n",
       "    .dataframe thead th {\n",
       "        text-align: right;\n",
       "    }\n",
       "</style>\n",
       "<table border=\"1\" class=\"dataframe\">\n",
       "  <thead>\n",
       "    <tr style=\"text-align: right;\">\n",
       "      <th></th>\n",
       "      <th>Drug1</th>\n",
       "      <th>Drug2</th>\n",
       "    </tr>\n",
       "  </thead>\n",
       "  <tbody>\n",
       "    <tr>\n",
       "      <th>0</th>\n",
       "      <td>DB00945</td>\n",
       "      <td>DB00526</td>\n",
       "    </tr>\n",
       "    <tr>\n",
       "      <th>1</th>\n",
       "      <td>DB00945</td>\n",
       "      <td>DB00458</td>\n",
       "    </tr>\n",
       "    <tr>\n",
       "      <th>2</th>\n",
       "      <td>DB00945</td>\n",
       "      <td>DB00996</td>\n",
       "    </tr>\n",
       "    <tr>\n",
       "      <th>3</th>\n",
       "      <td>DB00945</td>\n",
       "      <td>DB00454</td>\n",
       "    </tr>\n",
       "    <tr>\n",
       "      <th>4</th>\n",
       "      <td>DB00945</td>\n",
       "      <td>DB00213</td>\n",
       "    </tr>\n",
       "  </tbody>\n",
       "</table>\n",
       "</div>"
      ],
      "text/plain": [
       "     Drug1    Drug2\n",
       "0  DB00945  DB00526\n",
       "1  DB00945  DB00458\n",
       "2  DB00945  DB00996\n",
       "3  DB00945  DB00454\n",
       "4  DB00945  DB00213"
      ]
     },
     "execution_count": 25,
     "metadata": {},
     "output_type": "execute_result"
    }
   ],
   "source": [
    "ddi_df = pd.read_csv(\"data/input/ddi_twosides.txt\", sep='\\t')\n",
    "ddi_df.head()"
   ]
  },
  {
   "cell_type": "code",
   "execution_count": 26,
   "metadata": {},
   "outputs": [
    {
     "name": "stdout",
     "output_type": "stream",
     "text": [
      "Drugs 533\n",
      "Postive size: 47301\n"
     ]
    }
   ],
   "source": [
    "commonDrugs, all_positives = disjoint_cv.getPositivePairs(ddi_df, embedding_df)"
   ]
  },
  {
   "cell_type": "code",
   "execution_count": 27,
   "metadata": {},
   "outputs": [],
   "source": [
    "nb_model = GaussianNB()\n",
    "lr_model = linear_model.LogisticRegression()\n",
    "rf_model = ensemble.RandomForestClassifier(n_estimators=100, max_depth=8, n_jobs=-1)\n",
    "\n",
    "clfs = [('Naive Bayes',nb_model),('Logistic Regression',lr_model),('Random Forest',rf_model)]"
   ]
  },
  {
   "cell_type": "code",
   "execution_count": null,
   "metadata": {},
   "outputs": [
    {
     "name": "stdout",
     "output_type": "stream",
     "text": [
      "run 0\n",
      "run 1\n",
      "run 2\n",
      "run 3\n",
      "run 4\n",
      "run 5\n",
      "run 6\n",
      "run 7\n",
      "run 8\n",
      "run 9\n"
     ]
    }
   ],
   "source": [
    "n_fold =10 \n",
    "n_run =10 \n",
    "n_proportion = 1\n",
    "n_seed = 100\n",
    "\n",
    "drugwise_runs, pairwise_runs = disjoint_cv.run_cv10(sc, clfs, embedding_df, commonDrugs, all_positives, n_fold, n_run, n_proportion, n_seed)"
   ]
  },
  {
   "cell_type": "code",
   "execution_count": null,
   "metadata": {},
   "outputs": [],
   "source": [
    "folder= 'results/disjoint/'\n",
    "if not os.path.isdir(folder):\n",
    "    os.mkdir(folder)\n",
    "drugwise_runs.to_csv(folder+ 'TWOSIDES_DCV_runs_sg.csv')\n",
    "pairwise_runs.to_csv(folder+'TWOSIDES_PCV_runs_sg.csv')"
   ]
  },
  {
   "cell_type": "code",
   "execution_count": 31,
   "metadata": {},
   "outputs": [
    {
     "data": {
      "text/html": [
       "<div>\n",
       "<style scoped>\n",
       "    .dataframe tbody tr th:only-of-type {\n",
       "        vertical-align: middle;\n",
       "    }\n",
       "\n",
       "    .dataframe tbody tr th {\n",
       "        vertical-align: top;\n",
       "    }\n",
       "\n",
       "    .dataframe thead th {\n",
       "        text-align: right;\n",
       "    }\n",
       "</style>\n",
       "<table border=\"1\" class=\"dataframe\">\n",
       "  <thead>\n",
       "    <tr style=\"text-align: right;\">\n",
       "      <th></th>\n",
       "      <th>accuracy</th>\n",
       "      <th>average_precision</th>\n",
       "      <th>f1</th>\n",
       "      <th>fold</th>\n",
       "      <th>precision</th>\n",
       "      <th>recall</th>\n",
       "      <th>roc_auc</th>\n",
       "    </tr>\n",
       "    <tr>\n",
       "      <th>method</th>\n",
       "      <th></th>\n",
       "      <th></th>\n",
       "      <th></th>\n",
       "      <th></th>\n",
       "      <th></th>\n",
       "      <th></th>\n",
       "      <th></th>\n",
       "    </tr>\n",
       "  </thead>\n",
       "  <tbody>\n",
       "    <tr>\n",
       "      <th>Logistic Regression</th>\n",
       "      <td>0.733388</td>\n",
       "      <td>0.809773</td>\n",
       "      <td>0.727515</td>\n",
       "      <td>4.5</td>\n",
       "      <td>0.743591</td>\n",
       "      <td>0.714057</td>\n",
       "      <td>0.811636</td>\n",
       "    </tr>\n",
       "    <tr>\n",
       "      <th>Naive Bayes</th>\n",
       "      <td>0.735015</td>\n",
       "      <td>0.817105</td>\n",
       "      <td>0.730533</td>\n",
       "      <td>4.5</td>\n",
       "      <td>0.743010</td>\n",
       "      <td>0.719495</td>\n",
       "      <td>0.810523</td>\n",
       "    </tr>\n",
       "    <tr>\n",
       "      <th>Random Forest</th>\n",
       "      <td>0.748564</td>\n",
       "      <td>0.813760</td>\n",
       "      <td>0.730065</td>\n",
       "      <td>4.5</td>\n",
       "      <td>0.787507</td>\n",
       "      <td>0.681465</td>\n",
       "      <td>0.827556</td>\n",
       "    </tr>\n",
       "  </tbody>\n",
       "</table>\n",
       "</div>"
      ],
      "text/plain": [
       "                     accuracy  average_precision        f1  fold  precision  \\\n",
       "method                                                                        \n",
       "Logistic Regression  0.733388           0.809773  0.727515   4.5   0.743591   \n",
       "Naive Bayes          0.735015           0.817105  0.730533   4.5   0.743010   \n",
       "Random Forest        0.748564           0.813760  0.730065   4.5   0.787507   \n",
       "\n",
       "                       recall   roc_auc  \n",
       "method                                   \n",
       "Logistic Regression  0.714057  0.811636  \n",
       "Naive Bayes          0.719495  0.810523  \n",
       "Random Forest        0.681465  0.827556  "
      ]
     },
     "execution_count": 31,
     "metadata": {},
     "output_type": "execute_result"
    }
   ],
   "source": [
    "drugwise_runs.groupby(['method','run']).mean().groupby('method').mean()"
   ]
  },
  {
   "cell_type": "code",
   "execution_count": 32,
   "metadata": {},
   "outputs": [
    {
     "data": {
      "text/html": [
       "<div>\n",
       "<style scoped>\n",
       "    .dataframe tbody tr th:only-of-type {\n",
       "        vertical-align: middle;\n",
       "    }\n",
       "\n",
       "    .dataframe tbody tr th {\n",
       "        vertical-align: top;\n",
       "    }\n",
       "\n",
       "    .dataframe thead th {\n",
       "        text-align: right;\n",
       "    }\n",
       "</style>\n",
       "<table border=\"1\" class=\"dataframe\">\n",
       "  <thead>\n",
       "    <tr style=\"text-align: right;\">\n",
       "      <th></th>\n",
       "      <th>accuracy</th>\n",
       "      <th>average_precision</th>\n",
       "      <th>f1</th>\n",
       "      <th>fold</th>\n",
       "      <th>precision</th>\n",
       "      <th>recall</th>\n",
       "      <th>roc_auc</th>\n",
       "    </tr>\n",
       "    <tr>\n",
       "      <th>method</th>\n",
       "      <th></th>\n",
       "      <th></th>\n",
       "      <th></th>\n",
       "      <th></th>\n",
       "      <th></th>\n",
       "      <th></th>\n",
       "      <th></th>\n",
       "    </tr>\n",
       "  </thead>\n",
       "  <tbody>\n",
       "    <tr>\n",
       "      <th>Logistic Regression</th>\n",
       "      <td>0.672144</td>\n",
       "      <td>0.737015</td>\n",
       "      <td>0.656859</td>\n",
       "      <td>4.5</td>\n",
       "      <td>0.687525</td>\n",
       "      <td>0.635981</td>\n",
       "      <td>0.738770</td>\n",
       "    </tr>\n",
       "    <tr>\n",
       "      <th>Naive Bayes</th>\n",
       "      <td>0.708591</td>\n",
       "      <td>0.789882</td>\n",
       "      <td>0.699357</td>\n",
       "      <td>4.5</td>\n",
       "      <td>0.721602</td>\n",
       "      <td>0.684167</td>\n",
       "      <td>0.783451</td>\n",
       "    </tr>\n",
       "    <tr>\n",
       "      <th>Random Forest</th>\n",
       "      <td>0.664078</td>\n",
       "      <td>0.750148</td>\n",
       "      <td>0.589833</td>\n",
       "      <td>4.5</td>\n",
       "      <td>0.753335</td>\n",
       "      <td>0.491136</td>\n",
       "      <td>0.750145</td>\n",
       "    </tr>\n",
       "  </tbody>\n",
       "</table>\n",
       "</div>"
      ],
      "text/plain": [
       "                     accuracy  average_precision        f1  fold  precision  \\\n",
       "method                                                                        \n",
       "Logistic Regression  0.672144           0.737015  0.656859   4.5   0.687525   \n",
       "Naive Bayes          0.708591           0.789882  0.699357   4.5   0.721602   \n",
       "Random Forest        0.664078           0.750148  0.589833   4.5   0.753335   \n",
       "\n",
       "                       recall   roc_auc  \n",
       "method                                   \n",
       "Logistic Regression  0.635981  0.738770  \n",
       "Naive Bayes          0.684167  0.783451  \n",
       "Random Forest        0.491136  0.750145  "
      ]
     },
     "execution_count": 32,
     "metadata": {},
     "output_type": "execute_result"
    }
   ],
   "source": [
    "pairwise_runs.groupby(['method','run']).mean().groupby('method').mean()"
   ]
  },
  {
   "cell_type": "markdown",
   "metadata": {},
   "source": [
    "# Drugbank 4"
   ]
  },
  {
   "cell_type": "code",
   "execution_count": 33,
   "metadata": {},
   "outputs": [
    {
     "data": {
      "text/html": [
       "<div>\n",
       "<style scoped>\n",
       "    .dataframe tbody tr th:only-of-type {\n",
       "        vertical-align: middle;\n",
       "    }\n",
       "\n",
       "    .dataframe tbody tr th {\n",
       "        vertical-align: top;\n",
       "    }\n",
       "\n",
       "    .dataframe thead th {\n",
       "        text-align: right;\n",
       "    }\n",
       "</style>\n",
       "<table border=\"1\" class=\"dataframe\">\n",
       "  <thead>\n",
       "    <tr style=\"text-align: right;\">\n",
       "      <th></th>\n",
       "      <th>Drug1</th>\n",
       "      <th>Drug2</th>\n",
       "    </tr>\n",
       "  </thead>\n",
       "  <tbody>\n",
       "    <tr>\n",
       "      <th>0</th>\n",
       "      <td>DB00005</td>\n",
       "      <td>DB00026</td>\n",
       "    </tr>\n",
       "    <tr>\n",
       "      <th>1</th>\n",
       "      <td>DB00026</td>\n",
       "      <td>DB00005</td>\n",
       "    </tr>\n",
       "    <tr>\n",
       "      <th>2</th>\n",
       "      <td>DB00005</td>\n",
       "      <td>DB00065</td>\n",
       "    </tr>\n",
       "    <tr>\n",
       "      <th>3</th>\n",
       "      <td>DB00065</td>\n",
       "      <td>DB00005</td>\n",
       "    </tr>\n",
       "    <tr>\n",
       "      <th>4</th>\n",
       "      <td>DB00005</td>\n",
       "      <td>DB00072</td>\n",
       "    </tr>\n",
       "  </tbody>\n",
       "</table>\n",
       "</div>"
      ],
      "text/plain": [
       "     Drug1    Drug2\n",
       "0  DB00005  DB00026\n",
       "1  DB00026  DB00005\n",
       "2  DB00005  DB00065\n",
       "3  DB00065  DB00005\n",
       "4  DB00005  DB00072"
      ]
     },
     "execution_count": 33,
     "metadata": {},
     "output_type": "execute_result"
    }
   ],
   "source": [
    "ddi_df = pd.read_csv(\"data/input/ddi_v4.txt\", sep='\\t')\n",
    "ddi_df.head()"
   ]
  },
  {
   "cell_type": "code",
   "execution_count": 34,
   "metadata": {},
   "outputs": [
    {
     "name": "stdout",
     "output_type": "stream",
     "text": [
      "Drugs 1458\n",
      "Postive size: 47077\n"
     ]
    }
   ],
   "source": [
    "commonDrugs, all_positives = disjoint_cv.getPositivePairs(ddi_df, embedding_df)"
   ]
  },
  {
   "cell_type": "code",
   "execution_count": 35,
   "metadata": {},
   "outputs": [],
   "source": [
    "nb_model = GaussianNB()\n",
    "lr_model = linear_model.LogisticRegression()\n",
    "rf_model = ensemble.RandomForestClassifier(n_estimators=100, max_depth=8, n_jobs=-1)\n",
    "\n",
    "clfs = [('Naive Bayes',nb_model),('Logistic Regression',lr_model),('Random Forest',rf_model)]"
   ]
  },
  {
   "cell_type": "code",
   "execution_count": 36,
   "metadata": {},
   "outputs": [
    {
     "name": "stdout",
     "output_type": "stream",
     "text": [
      "run 0\n",
      "run 1\n",
      "run 2\n",
      "run 3\n",
      "run 4\n",
      "run 5\n",
      "run 6\n",
      "run 7\n",
      "run 8\n",
      "run 9\n"
     ]
    }
   ],
   "source": [
    "n_fold =10 \n",
    "n_run =10 \n",
    "n_proportion = 1\n",
    "n_seed = 100\n",
    "\n",
    "drugwise_runs, pairwise_runs = disjoint_cv.run_cv10(sc, clfs, embedding_df, commonDrugs, all_positives, n_fold, n_run, n_proportion, n_seed)"
   ]
  },
  {
   "cell_type": "code",
   "execution_count": 37,
   "metadata": {},
   "outputs": [],
   "source": [
    "folder= 'results/disjoint/'\n",
    "if not os.path.isdir(folder):\n",
    "    os.mkdir(folder)\n",
    "drugwise_runs.to_csv(folder+ 'DB4_DCV_runs_sg.csv')\n",
    "pairwise_runs.to_csv(folder+'DB4_PCV_runs_sg.csv')"
   ]
  },
  {
   "cell_type": "code",
   "execution_count": 38,
   "metadata": {},
   "outputs": [
    {
     "data": {
      "text/html": [
       "<div>\n",
       "<style scoped>\n",
       "    .dataframe tbody tr th:only-of-type {\n",
       "        vertical-align: middle;\n",
       "    }\n",
       "\n",
       "    .dataframe tbody tr th {\n",
       "        vertical-align: top;\n",
       "    }\n",
       "\n",
       "    .dataframe thead th {\n",
       "        text-align: right;\n",
       "    }\n",
       "</style>\n",
       "<table border=\"1\" class=\"dataframe\">\n",
       "  <thead>\n",
       "    <tr style=\"text-align: right;\">\n",
       "      <th></th>\n",
       "      <th>accuracy</th>\n",
       "      <th>average_precision</th>\n",
       "      <th>f1</th>\n",
       "      <th>fold</th>\n",
       "      <th>precision</th>\n",
       "      <th>recall</th>\n",
       "      <th>roc_auc</th>\n",
       "    </tr>\n",
       "    <tr>\n",
       "      <th>method</th>\n",
       "      <th></th>\n",
       "      <th></th>\n",
       "      <th></th>\n",
       "      <th></th>\n",
       "      <th></th>\n",
       "      <th></th>\n",
       "      <th></th>\n",
       "    </tr>\n",
       "  </thead>\n",
       "  <tbody>\n",
       "    <tr>\n",
       "      <th>Logistic Regression</th>\n",
       "      <td>0.660592</td>\n",
       "      <td>0.704436</td>\n",
       "      <td>0.651452</td>\n",
       "      <td>4.5</td>\n",
       "      <td>0.669170</td>\n",
       "      <td>0.635764</td>\n",
       "      <td>0.718731</td>\n",
       "    </tr>\n",
       "    <tr>\n",
       "      <th>Naive Bayes</th>\n",
       "      <td>0.650573</td>\n",
       "      <td>0.699039</td>\n",
       "      <td>0.650479</td>\n",
       "      <td>4.5</td>\n",
       "      <td>0.650402</td>\n",
       "      <td>0.651560</td>\n",
       "      <td>0.705249</td>\n",
       "    </tr>\n",
       "    <tr>\n",
       "      <th>Random Forest</th>\n",
       "      <td>0.709124</td>\n",
       "      <td>0.776082</td>\n",
       "      <td>0.688135</td>\n",
       "      <td>4.5</td>\n",
       "      <td>0.740989</td>\n",
       "      <td>0.643173</td>\n",
       "      <td>0.784752</td>\n",
       "    </tr>\n",
       "  </tbody>\n",
       "</table>\n",
       "</div>"
      ],
      "text/plain": [
       "                     accuracy  average_precision        f1  fold  precision  \\\n",
       "method                                                                        \n",
       "Logistic Regression  0.660592           0.704436  0.651452   4.5   0.669170   \n",
       "Naive Bayes          0.650573           0.699039  0.650479   4.5   0.650402   \n",
       "Random Forest        0.709124           0.776082  0.688135   4.5   0.740989   \n",
       "\n",
       "                       recall   roc_auc  \n",
       "method                                   \n",
       "Logistic Regression  0.635764  0.718731  \n",
       "Naive Bayes          0.651560  0.705249  \n",
       "Random Forest        0.643173  0.784752  "
      ]
     },
     "execution_count": 38,
     "metadata": {},
     "output_type": "execute_result"
    }
   ],
   "source": [
    "drugwise_runs.groupby(['method','run']).mean().groupby('method').mean()"
   ]
  },
  {
   "cell_type": "code",
   "execution_count": 39,
   "metadata": {},
   "outputs": [
    {
     "data": {
      "text/html": [
       "<div>\n",
       "<style scoped>\n",
       "    .dataframe tbody tr th:only-of-type {\n",
       "        vertical-align: middle;\n",
       "    }\n",
       "\n",
       "    .dataframe tbody tr th {\n",
       "        vertical-align: top;\n",
       "    }\n",
       "\n",
       "    .dataframe thead th {\n",
       "        text-align: right;\n",
       "    }\n",
       "</style>\n",
       "<table border=\"1\" class=\"dataframe\">\n",
       "  <thead>\n",
       "    <tr style=\"text-align: right;\">\n",
       "      <th></th>\n",
       "      <th>accuracy</th>\n",
       "      <th>average_precision</th>\n",
       "      <th>f1</th>\n",
       "      <th>fold</th>\n",
       "      <th>precision</th>\n",
       "      <th>recall</th>\n",
       "      <th>roc_auc</th>\n",
       "    </tr>\n",
       "    <tr>\n",
       "      <th>method</th>\n",
       "      <th></th>\n",
       "      <th></th>\n",
       "      <th></th>\n",
       "      <th></th>\n",
       "      <th></th>\n",
       "      <th></th>\n",
       "      <th></th>\n",
       "    </tr>\n",
       "  </thead>\n",
       "  <tbody>\n",
       "    <tr>\n",
       "      <th>Logistic Regression</th>\n",
       "      <td>0.622942</td>\n",
       "      <td>0.659199</td>\n",
       "      <td>0.595135</td>\n",
       "      <td>4.5</td>\n",
       "      <td>0.640842</td>\n",
       "      <td>0.559842</td>\n",
       "      <td>0.672081</td>\n",
       "    </tr>\n",
       "    <tr>\n",
       "      <th>Naive Bayes</th>\n",
       "      <td>0.635789</td>\n",
       "      <td>0.677935</td>\n",
       "      <td>0.629500</td>\n",
       "      <td>4.5</td>\n",
       "      <td>0.639159</td>\n",
       "      <td>0.624792</td>\n",
       "      <td>0.687501</td>\n",
       "    </tr>\n",
       "    <tr>\n",
       "      <th>Random Forest</th>\n",
       "      <td>0.622280</td>\n",
       "      <td>0.686462</td>\n",
       "      <td>0.521107</td>\n",
       "      <td>4.5</td>\n",
       "      <td>0.708418</td>\n",
       "      <td>0.416456</td>\n",
       "      <td>0.696672</td>\n",
       "    </tr>\n",
       "  </tbody>\n",
       "</table>\n",
       "</div>"
      ],
      "text/plain": [
       "                     accuracy  average_precision        f1  fold  precision  \\\n",
       "method                                                                        \n",
       "Logistic Regression  0.622942           0.659199  0.595135   4.5   0.640842   \n",
       "Naive Bayes          0.635789           0.677935  0.629500   4.5   0.639159   \n",
       "Random Forest        0.622280           0.686462  0.521107   4.5   0.708418   \n",
       "\n",
       "                       recall   roc_auc  \n",
       "method                                   \n",
       "Logistic Regression  0.559842  0.672081  \n",
       "Naive Bayes          0.624792  0.687501  \n",
       "Random Forest        0.416456  0.696672  "
      ]
     },
     "execution_count": 39,
     "metadata": {},
     "output_type": "execute_result"
    }
   ],
   "source": [
    "pairwise_runs.groupby(['method','run']).mean().groupby('method').mean()"
   ]
  },
  {
   "cell_type": "markdown",
   "metadata": {},
   "source": [
    "# Drugbank v5"
   ]
  },
  {
   "cell_type": "code",
   "execution_count": 40,
   "metadata": {},
   "outputs": [
    {
     "data": {
      "text/html": [
       "<div>\n",
       "<style scoped>\n",
       "    .dataframe tbody tr th:only-of-type {\n",
       "        vertical-align: middle;\n",
       "    }\n",
       "\n",
       "    .dataframe tbody tr th {\n",
       "        vertical-align: top;\n",
       "    }\n",
       "\n",
       "    .dataframe thead th {\n",
       "        text-align: right;\n",
       "    }\n",
       "</style>\n",
       "<table border=\"1\" class=\"dataframe\">\n",
       "  <thead>\n",
       "    <tr style=\"text-align: right;\">\n",
       "      <th></th>\n",
       "      <th>Drug1</th>\n",
       "      <th>Drug2</th>\n",
       "    </tr>\n",
       "  </thead>\n",
       "  <tbody>\n",
       "    <tr>\n",
       "      <th>0</th>\n",
       "      <td>DB00001</td>\n",
       "      <td>DB01048</td>\n",
       "    </tr>\n",
       "    <tr>\n",
       "      <th>1</th>\n",
       "      <td>DB00001</td>\n",
       "      <td>DB00054</td>\n",
       "    </tr>\n",
       "    <tr>\n",
       "      <th>2</th>\n",
       "      <td>DB00001</td>\n",
       "      <td>DB06736</td>\n",
       "    </tr>\n",
       "    <tr>\n",
       "      <th>3</th>\n",
       "      <td>DB00001</td>\n",
       "      <td>DB01418</td>\n",
       "    </tr>\n",
       "    <tr>\n",
       "      <th>4</th>\n",
       "      <td>DB00001</td>\n",
       "      <td>DB00945</td>\n",
       "    </tr>\n",
       "  </tbody>\n",
       "</table>\n",
       "</div>"
      ],
      "text/plain": [
       "     Drug1    Drug2\n",
       "0  DB00001  DB01048\n",
       "1  DB00001  DB00054\n",
       "2  DB00001  DB06736\n",
       "3  DB00001  DB01418\n",
       "4  DB00001  DB00945"
      ]
     },
     "execution_count": 40,
     "metadata": {},
     "output_type": "execute_result"
    }
   ],
   "source": [
    "ddi_df = pd.read_csv(\"data/input/ddi_v5.txt\", sep='\\t')\n",
    "ddi_df.head()"
   ]
  },
  {
   "cell_type": "code",
   "execution_count": 41,
   "metadata": {},
   "outputs": [
    {
     "name": "stdout",
     "output_type": "stream",
     "text": [
      "Drugs 2124\n",
      "Postive size: 253449\n"
     ]
    }
   ],
   "source": [
    "commonDrugs, all_positives = disjoint_cv.getPositivePairs(ddi_df, embedding_df)"
   ]
  },
  {
   "cell_type": "code",
   "execution_count": 42,
   "metadata": {},
   "outputs": [],
   "source": [
    "nb_model = GaussianNB()\n",
    "lr_model = linear_model.LogisticRegression()\n",
    "rf_model = ensemble.RandomForestClassifier(n_estimators=100, max_depth=8, n_jobs=-1)\n",
    "\n",
    "clfs = [('Naive Bayes',nb_model),('Logistic Regression',lr_model),('Random Forest',rf_model)]"
   ]
  },
  {
   "cell_type": "code",
   "execution_count": null,
   "metadata": {},
   "outputs": [
    {
     "name": "stdout",
     "output_type": "stream",
     "text": [
      "run 0\n",
      "run 1\n"
     ]
    }
   ],
   "source": [
    "n_fold =10 \n",
    "n_run =10 \n",
    "n_proportion = 1\n",
    "n_seed = 100\n",
    "\n",
    "drugwise_runs, pairwise_runs = disjoint_cv.run_cv10(sc, clfs, embedding_df, commonDrugs, all_positives, n_fold, n_run, n_proportion, n_seed)"
   ]
  },
  {
   "cell_type": "code",
   "execution_count": null,
   "metadata": {},
   "outputs": [],
   "source": [
    "folder= 'results/disjoint/'\n",
    "if not os.path.isdir(folder):\n",
    "    os.mkdir(folder)\n",
    "drugwise_runs.to_csv(folder+ 'DB5_DCV_runs_sg.csv')\n",
    "pairwise_runs.to_csv(folder+'DB5_PCV_runs_sg.csv')"
   ]
  },
  {
   "cell_type": "code",
   "execution_count": null,
   "metadata": {},
   "outputs": [],
   "source": []
  }
 ],
 "metadata": {
  "kernelspec": {
   "display_name": "Python 3",
   "language": "python",
   "name": "python3"
  },
  "language_info": {
   "codemirror_mode": {
    "name": "ipython",
    "version": 3
   },
   "file_extension": ".py",
   "mimetype": "text/x-python",
   "name": "python",
   "nbconvert_exporter": "python",
   "pygments_lexer": "ipython3",
   "version": "3.6.6"
  }
 },
 "nbformat": 4,
 "nbformat_minor": 2
}
