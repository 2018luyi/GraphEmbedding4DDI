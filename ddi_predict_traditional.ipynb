{
 "cells": [
  {
   "cell_type": "code",
   "execution_count": 1,
   "metadata": {},
   "outputs": [
    {
     "name": "stderr",
     "output_type": "stream",
     "text": [
      "/opt/conda/lib/python3.6/site-packages/sklearn/ensemble/weight_boosting.py:29: DeprecationWarning: numpy.core.umath_tests is an internal NumPy module and should not be imported. It will be removed in a future NumPy release.\n",
      "  from numpy.core.umath_tests import inner1d\n"
     ]
    }
   ],
   "source": [
    "import csv\n",
    "import numpy as np\n",
    "import sys\n",
    "import pandas as pd\n",
    "import itertools\n",
    "import math\n",
    "import time\n",
    "\n",
    "from sklearn import svm, linear_model, neighbors\n",
    "from sklearn import tree, ensemble\n",
    "from sklearn import metrics\n",
    "from sklearn.naive_bayes import GaussianNB\n",
    "\n",
    "import networkx as nx\n",
    "import random\n",
    "import numbers\n",
    "\n",
    "from sklearn.model_selection import StratifiedKFold\n",
    "\n",
    "from src import ml"
   ]
  },
  {
   "cell_type": "code",
   "execution_count": 2,
   "metadata": {},
   "outputs": [],
   "source": [
    "import findspark\n",
    "findspark.init()\n",
    "\n",
    "from pyspark import SparkConf, SparkContext"
   ]
  },
  {
   "cell_type": "code",
   "execution_count": 3,
   "metadata": {},
   "outputs": [
    {
     "name": "stdout",
     "output_type": "stream",
     "text": [
      "<SparkContext master=local[10] appName=pyspark-shell>\n"
     ]
    }
   ],
   "source": [
    "if False: \n",
    "    sc.stop()\n",
    "\n",
    "config = SparkConf()\n",
    "config.setMaster(\"local[10]\")\n",
    "config.set(\"spark.executor.memory\", \"70g\")\n",
    "config.set('spark.driver.memory', '90g')\n",
    "config.set(\"spark.memory.offHeap.enabled\",True)\n",
    "config.set(\"spark.memory.offHeap.size\",\"50g\") \n",
    "sc = SparkContext(conf=config)\n",
    "print (sc)"
   ]
  },
  {
   "cell_type": "markdown",
   "metadata": {},
   "source": [
    "# DRUGBANK 4.0"
   ]
  },
  {
   "cell_type": "code",
   "execution_count": 4,
   "metadata": {},
   "outputs": [
    {
     "data": {
      "text/html": [
       "<div>\n",
       "<style scoped>\n",
       "    .dataframe tbody tr th:only-of-type {\n",
       "        vertical-align: middle;\n",
       "    }\n",
       "\n",
       "    .dataframe tbody tr th {\n",
       "        vertical-align: top;\n",
       "    }\n",
       "\n",
       "    .dataframe thead th {\n",
       "        text-align: right;\n",
       "    }\n",
       "</style>\n",
       "<table border=\"1\" class=\"dataframe\">\n",
       "  <thead>\n",
       "    <tr style=\"text-align: right;\">\n",
       "      <th></th>\n",
       "      <th>Drug1</th>\n",
       "      <th>Drug2</th>\n",
       "    </tr>\n",
       "  </thead>\n",
       "  <tbody>\n",
       "    <tr>\n",
       "      <th>0</th>\n",
       "      <td>DB00005</td>\n",
       "      <td>DB00026</td>\n",
       "    </tr>\n",
       "    <tr>\n",
       "      <th>1</th>\n",
       "      <td>DB00026</td>\n",
       "      <td>DB00005</td>\n",
       "    </tr>\n",
       "    <tr>\n",
       "      <th>2</th>\n",
       "      <td>DB00005</td>\n",
       "      <td>DB00065</td>\n",
       "    </tr>\n",
       "    <tr>\n",
       "      <th>3</th>\n",
       "      <td>DB00065</td>\n",
       "      <td>DB00005</td>\n",
       "    </tr>\n",
       "    <tr>\n",
       "      <th>4</th>\n",
       "      <td>DB00005</td>\n",
       "      <td>DB00072</td>\n",
       "    </tr>\n",
       "  </tbody>\n",
       "</table>\n",
       "</div>"
      ],
      "text/plain": [
       "     Drug1    Drug2\n",
       "0  DB00005  DB00026\n",
       "1  DB00026  DB00005\n",
       "2  DB00005  DB00065\n",
       "3  DB00065  DB00005\n",
       "4  DB00005  DB00072"
      ]
     },
     "execution_count": 4,
     "metadata": {},
     "output_type": "execute_result"
    }
   ],
   "source": [
    "ddi_df = pd.read_csv(\"data/input/ddi_v4.txt\", sep='\\t')\n",
    "ddi_df.head()"
   ]
  },
  {
   "cell_type": "code",
   "execution_count": 5,
   "metadata": {},
   "outputs": [],
   "source": [
    "featureFilename = \"vectors/DB/RDF2Vec_sg_200_5_5_15_2_500_d5_uniform.txt\"\n",
    "embedding_df = pd.read_csv(featureFilename, delimiter='\\t') \n",
    "embedding_df.Entity =embedding_df.Entity.str[-8:-1]\n",
    "embedding_df.rename(columns={'Entity':'Drug'}, inplace=True)"
   ]
  },
  {
   "cell_type": "code",
   "execution_count": 6,
   "metadata": {},
   "outputs": [],
   "source": [
    "pairs, classes = ml.generatePairs(ddi_df, embedding_df)"
   ]
  },
  {
   "cell_type": "code",
   "execution_count": 7,
   "metadata": {},
   "outputs": [],
   "source": [
    "nb_model = GaussianNB()\n",
    "lr_model = linear_model.LogisticRegression()\n",
    "rf_model = ensemble.RandomForestClassifier(n_estimators=200, max_depth=8, n_jobs=-1)\n",
    "\n",
    "clfs = [('Naive Bayes',nb_model),('Logistic Regression',lr_model),('Random Forest',rf_model)]"
   ]
  },
  {
   "cell_type": "code",
   "execution_count": 8,
   "metadata": {},
   "outputs": [
    {
     "name": "stdout",
     "output_type": "stream",
     "text": [
      "+/-: 47077 47077 1015076\n",
      "run 0\n",
      "+/-: 47077 47077 1015076\n",
      "run 1\n",
      "+/-: 47077 47077 1015076\n",
      "run 2\n",
      "+/-: 47077 47077 1015076\n",
      "run 3\n",
      "+/-: 47077 47077 1015076\n",
      "run 4\n",
      "+/-: 47077 47077 1015076\n",
      "run 5\n",
      "+/-: 47077 47077 1015076\n",
      "run 6\n",
      "+/-: 47077 47077 1015076\n",
      "run 7\n",
      "+/-: 47077 47077 1015076\n",
      "run 8\n",
      "+/-: 47077 47077 1015076\n",
      "run 9\n"
     ]
    }
   ],
   "source": [
    "n_seed =100\n",
    "n_fold =10 \n",
    "n_run =10 \n",
    "n_proportion = 1,\n",
    "all_scores_df = ml.kfoldCV(sc, pairs, classes, embedding_df, clfs, n_run, n_fold, n_proportion, n_seed)\n"
   ]
  },
  {
   "cell_type": "code",
   "execution_count": 10,
   "metadata": {},
   "outputs": [
    {
     "data": {
      "text/html": [
       "<div>\n",
       "<style scoped>\n",
       "    .dataframe tbody tr th:only-of-type {\n",
       "        vertical-align: middle;\n",
       "    }\n",
       "\n",
       "    .dataframe tbody tr th {\n",
       "        vertical-align: top;\n",
       "    }\n",
       "\n",
       "    .dataframe thead th {\n",
       "        text-align: right;\n",
       "    }\n",
       "</style>\n",
       "<table border=\"1\" class=\"dataframe\">\n",
       "  <thead>\n",
       "    <tr style=\"text-align: right;\">\n",
       "      <th></th>\n",
       "      <th>accuracy</th>\n",
       "      <th>average_precision</th>\n",
       "      <th>f1</th>\n",
       "      <th>fold</th>\n",
       "      <th>precision</th>\n",
       "      <th>recall</th>\n",
       "      <th>roc_auc</th>\n",
       "    </tr>\n",
       "    <tr>\n",
       "      <th>method</th>\n",
       "      <th></th>\n",
       "      <th></th>\n",
       "      <th></th>\n",
       "      <th></th>\n",
       "      <th></th>\n",
       "      <th></th>\n",
       "      <th></th>\n",
       "    </tr>\n",
       "  </thead>\n",
       "  <tbody>\n",
       "    <tr>\n",
       "      <th>Logistic Regression</th>\n",
       "      <td>0.696858</td>\n",
       "      <td>0.748784</td>\n",
       "      <td>0.699954</td>\n",
       "      <td>4.5</td>\n",
       "      <td>0.692892</td>\n",
       "      <td>0.707192</td>\n",
       "      <td>0.762720</td>\n",
       "    </tr>\n",
       "    <tr>\n",
       "      <th>Naive Bayes</th>\n",
       "      <td>0.659448</td>\n",
       "      <td>0.711984</td>\n",
       "      <td>0.663262</td>\n",
       "      <td>4.5</td>\n",
       "      <td>0.655920</td>\n",
       "      <td>0.670797</td>\n",
       "      <td>0.716468</td>\n",
       "    </tr>\n",
       "    <tr>\n",
       "      <th>Random Forest</th>\n",
       "      <td>0.768470</td>\n",
       "      <td>0.836724</td>\n",
       "      <td>0.772115</td>\n",
       "      <td>4.5</td>\n",
       "      <td>0.760148</td>\n",
       "      <td>0.784502</td>\n",
       "      <td>0.843221</td>\n",
       "    </tr>\n",
       "  </tbody>\n",
       "</table>\n",
       "</div>"
      ],
      "text/plain": [
       "                     accuracy  average_precision        f1  fold  precision  \\\n",
       "method                                                                        \n",
       "Logistic Regression  0.696858           0.748784  0.699954   4.5   0.692892   \n",
       "Naive Bayes          0.659448           0.711984  0.663262   4.5   0.655920   \n",
       "Random Forest        0.768470           0.836724  0.772115   4.5   0.760148   \n",
       "\n",
       "                       recall   roc_auc  \n",
       "method                                   \n",
       "Logistic Regression  0.707192  0.762720  \n",
       "Naive Bayes          0.670797  0.716468  \n",
       "Random Forest        0.784502  0.843221  "
      ]
     },
     "execution_count": 10,
     "metadata": {},
     "output_type": "execute_result"
    }
   ],
   "source": [
    "all_scores_df.groupby(['method','run']).mean().groupby('method').mean()"
   ]
  },
  {
   "cell_type": "code",
   "execution_count": 11,
   "metadata": {},
   "outputs": [],
   "source": [
    "all_scores_df.to_csv('results/traditional/DB4_TCV_run_sg.csv',sep=',', index=False)"
   ]
  },
  {
   "cell_type": "markdown",
   "metadata": {},
   "source": [
    "# TWOSIDES "
   ]
  },
  {
   "cell_type": "code",
   "execution_count": 12,
   "metadata": {},
   "outputs": [
    {
     "data": {
      "text/html": [
       "<div>\n",
       "<style scoped>\n",
       "    .dataframe tbody tr th:only-of-type {\n",
       "        vertical-align: middle;\n",
       "    }\n",
       "\n",
       "    .dataframe tbody tr th {\n",
       "        vertical-align: top;\n",
       "    }\n",
       "\n",
       "    .dataframe thead th {\n",
       "        text-align: right;\n",
       "    }\n",
       "</style>\n",
       "<table border=\"1\" class=\"dataframe\">\n",
       "  <thead>\n",
       "    <tr style=\"text-align: right;\">\n",
       "      <th></th>\n",
       "      <th>Drug1</th>\n",
       "      <th>Drug2</th>\n",
       "    </tr>\n",
       "  </thead>\n",
       "  <tbody>\n",
       "    <tr>\n",
       "      <th>0</th>\n",
       "      <td>DB00945</td>\n",
       "      <td>DB00526</td>\n",
       "    </tr>\n",
       "    <tr>\n",
       "      <th>1</th>\n",
       "      <td>DB00945</td>\n",
       "      <td>DB00458</td>\n",
       "    </tr>\n",
       "    <tr>\n",
       "      <th>2</th>\n",
       "      <td>DB00945</td>\n",
       "      <td>DB00996</td>\n",
       "    </tr>\n",
       "    <tr>\n",
       "      <th>3</th>\n",
       "      <td>DB00945</td>\n",
       "      <td>DB00454</td>\n",
       "    </tr>\n",
       "    <tr>\n",
       "      <th>4</th>\n",
       "      <td>DB00945</td>\n",
       "      <td>DB00213</td>\n",
       "    </tr>\n",
       "  </tbody>\n",
       "</table>\n",
       "</div>"
      ],
      "text/plain": [
       "     Drug1    Drug2\n",
       "0  DB00945  DB00526\n",
       "1  DB00945  DB00458\n",
       "2  DB00945  DB00996\n",
       "3  DB00945  DB00454\n",
       "4  DB00945  DB00213"
      ]
     },
     "execution_count": 12,
     "metadata": {},
     "output_type": "execute_result"
    }
   ],
   "source": [
    "ddi_df = pd.read_csv(\"data/input/ddi_twosides.txt\", sep='\\t')\n",
    "ddi_df.head()"
   ]
  },
  {
   "cell_type": "code",
   "execution_count": 13,
   "metadata": {},
   "outputs": [
    {
     "data": {
      "text/plain": [
       "97168"
      ]
     },
     "execution_count": 13,
     "metadata": {},
     "output_type": "execute_result"
    }
   ],
   "source": [
    "len(ddi_df)"
   ]
  },
  {
   "cell_type": "code",
   "execution_count": 14,
   "metadata": {},
   "outputs": [
    {
     "data": {
      "text/plain": [
       "548"
      ]
     },
     "execution_count": 14,
     "metadata": {},
     "output_type": "execute_result"
    }
   ],
   "source": [
    "len( set(ddi_df.Drug1.unique()).union(ddi_df.Drug2.unique()) )"
   ]
  },
  {
   "cell_type": "code",
   "execution_count": 15,
   "metadata": {},
   "outputs": [],
   "source": [
    "featureFilename = \"vectors/DB/RDF2Vec_sg_200_5_5_15_2_500_d5_uniform.txt\"\n",
    "embedding_df = pd.read_csv(featureFilename, delimiter='\\t') \n",
    "embedding_df.Entity =embedding_df.Entity.str[-8:-1]\n",
    "embedding_df.rename(columns={'Entity':'Drug'}, inplace=True)"
   ]
  },
  {
   "cell_type": "code",
   "execution_count": 16,
   "metadata": {},
   "outputs": [],
   "source": [
    "pairs, classes = ml.generatePairs(ddi_df, embedding_df)"
   ]
  },
  {
   "cell_type": "code",
   "execution_count": 17,
   "metadata": {},
   "outputs": [
    {
     "name": "stdout",
     "output_type": "stream",
     "text": [
      "+/-: 47301 47301 94477\n",
      "run 0\n",
      "+/-: 47301 47301 94477\n",
      "run 1\n",
      "+/-: 47301 47301 94477\n",
      "run 2\n",
      "+/-: 47301 47301 94477\n",
      "run 3\n",
      "+/-: 47301 47301 94477\n",
      "run 4\n",
      "+/-: 47301 47301 94477\n",
      "run 5\n",
      "+/-: 47301 47301 94477\n",
      "run 6\n",
      "+/-: 47301 47301 94477\n",
      "run 7\n",
      "+/-: 47301 47301 94477\n",
      "run 8\n",
      "+/-: 47301 47301 94477\n",
      "run 9\n"
     ]
    }
   ],
   "source": [
    "n_seed =100\n",
    "n_fold =10 \n",
    "n_run =10 \n",
    "n_proportion = 1,\n",
    "all_scores_df = ml.kfoldCV(sc, pairs, classes, embedding_df, clfs, n_run, n_fold, n_proportion, n_seed)"
   ]
  },
  {
   "cell_type": "code",
   "execution_count": 18,
   "metadata": {},
   "outputs": [
    {
     "data": {
      "text/html": [
       "<div>\n",
       "<style scoped>\n",
       "    .dataframe tbody tr th:only-of-type {\n",
       "        vertical-align: middle;\n",
       "    }\n",
       "\n",
       "    .dataframe tbody tr th {\n",
       "        vertical-align: top;\n",
       "    }\n",
       "\n",
       "    .dataframe thead th {\n",
       "        text-align: right;\n",
       "    }\n",
       "</style>\n",
       "<table border=\"1\" class=\"dataframe\">\n",
       "  <thead>\n",
       "    <tr style=\"text-align: right;\">\n",
       "      <th></th>\n",
       "      <th>accuracy</th>\n",
       "      <th>average_precision</th>\n",
       "      <th>f1</th>\n",
       "      <th>fold</th>\n",
       "      <th>precision</th>\n",
       "      <th>recall</th>\n",
       "      <th>roc_auc</th>\n",
       "    </tr>\n",
       "    <tr>\n",
       "      <th>method</th>\n",
       "      <th></th>\n",
       "      <th></th>\n",
       "      <th></th>\n",
       "      <th></th>\n",
       "      <th></th>\n",
       "      <th></th>\n",
       "      <th></th>\n",
       "    </tr>\n",
       "  </thead>\n",
       "  <tbody>\n",
       "    <tr>\n",
       "      <th>Logistic Regression</th>\n",
       "      <td>0.805453</td>\n",
       "      <td>0.893241</td>\n",
       "      <td>0.806192</td>\n",
       "      <td>4.5</td>\n",
       "      <td>0.803147</td>\n",
       "      <td>0.809281</td>\n",
       "      <td>0.888721</td>\n",
       "    </tr>\n",
       "    <tr>\n",
       "      <th>Naive Bayes</th>\n",
       "      <td>0.752422</td>\n",
       "      <td>0.838159</td>\n",
       "      <td>0.751185</td>\n",
       "      <td>4.5</td>\n",
       "      <td>0.754980</td>\n",
       "      <td>0.747460</td>\n",
       "      <td>0.829959</td>\n",
       "    </tr>\n",
       "    <tr>\n",
       "      <th>Random Forest</th>\n",
       "      <td>0.798184</td>\n",
       "      <td>0.883046</td>\n",
       "      <td>0.798963</td>\n",
       "      <td>4.5</td>\n",
       "      <td>0.795914</td>\n",
       "      <td>0.802074</td>\n",
       "      <td>0.882323</td>\n",
       "    </tr>\n",
       "  </tbody>\n",
       "</table>\n",
       "</div>"
      ],
      "text/plain": [
       "                     accuracy  average_precision        f1  fold  precision  \\\n",
       "method                                                                        \n",
       "Logistic Regression  0.805453           0.893241  0.806192   4.5   0.803147   \n",
       "Naive Bayes          0.752422           0.838159  0.751185   4.5   0.754980   \n",
       "Random Forest        0.798184           0.883046  0.798963   4.5   0.795914   \n",
       "\n",
       "                       recall   roc_auc  \n",
       "method                                   \n",
       "Logistic Regression  0.809281  0.888721  \n",
       "Naive Bayes          0.747460  0.829959  \n",
       "Random Forest        0.802074  0.882323  "
      ]
     },
     "execution_count": 18,
     "metadata": {},
     "output_type": "execute_result"
    }
   ],
   "source": [
    "all_scores_df.groupby(['method','run']).mean().groupby('method').mean()"
   ]
  },
  {
   "cell_type": "code",
   "execution_count": 19,
   "metadata": {},
   "outputs": [],
   "source": [
    "all_scores_df.to_csv('results/traditional/TWOSIDES_TCV_run_sg.csv',sep=',', index=False)"
   ]
  },
  {
   "cell_type": "markdown",
   "metadata": {},
   "source": [
    "# KEGG"
   ]
  },
  {
   "cell_type": "code",
   "execution_count": 20,
   "metadata": {},
   "outputs": [
    {
     "data": {
      "text/html": [
       "<div>\n",
       "<style scoped>\n",
       "    .dataframe tbody tr th:only-of-type {\n",
       "        vertical-align: middle;\n",
       "    }\n",
       "\n",
       "    .dataframe tbody tr th {\n",
       "        vertical-align: top;\n",
       "    }\n",
       "\n",
       "    .dataframe thead th {\n",
       "        text-align: right;\n",
       "    }\n",
       "</style>\n",
       "<table border=\"1\" class=\"dataframe\">\n",
       "  <thead>\n",
       "    <tr style=\"text-align: right;\">\n",
       "      <th></th>\n",
       "      <th>Drug1</th>\n",
       "      <th>Drug2</th>\n",
       "    </tr>\n",
       "  </thead>\n",
       "  <tbody>\n",
       "    <tr>\n",
       "      <th>0</th>\n",
       "      <td>DB00114</td>\n",
       "      <td>DB01235</td>\n",
       "    </tr>\n",
       "    <tr>\n",
       "      <th>1</th>\n",
       "      <td>DB00114</td>\n",
       "      <td>DB00413</td>\n",
       "    </tr>\n",
       "    <tr>\n",
       "      <th>2</th>\n",
       "      <td>DB00114</td>\n",
       "      <td>DB00810</td>\n",
       "    </tr>\n",
       "    <tr>\n",
       "      <th>3</th>\n",
       "      <td>DB00114</td>\n",
       "      <td>DB00494</td>\n",
       "    </tr>\n",
       "    <tr>\n",
       "      <th>4</th>\n",
       "      <td>DB00114</td>\n",
       "      <td>DB00323</td>\n",
       "    </tr>\n",
       "  </tbody>\n",
       "</table>\n",
       "</div>"
      ],
      "text/plain": [
       "     Drug1    Drug2\n",
       "0  DB00114  DB01235\n",
       "1  DB00114  DB00413\n",
       "2  DB00114  DB00810\n",
       "3  DB00114  DB00494\n",
       "4  DB00114  DB00323"
      ]
     },
     "execution_count": 20,
     "metadata": {},
     "output_type": "execute_result"
    }
   ],
   "source": [
    "ddi_df = pd.read_csv(\"data/input/ddi_kegg.txt\", sep='\\t')\n",
    "ddi_df.head()"
   ]
  },
  {
   "cell_type": "code",
   "execution_count": 21,
   "metadata": {},
   "outputs": [
    {
     "data": {
      "text/plain": [
       "40540"
      ]
     },
     "execution_count": 21,
     "metadata": {},
     "output_type": "execute_result"
    }
   ],
   "source": [
    "len(ddi_df)"
   ]
  },
  {
   "cell_type": "code",
   "execution_count": 22,
   "metadata": {},
   "outputs": [
    {
     "data": {
      "text/plain": [
       "864"
      ]
     },
     "execution_count": 22,
     "metadata": {},
     "output_type": "execute_result"
    }
   ],
   "source": [
    "len( set(ddi_df.Drug1.unique()).union(ddi_df.Drug2.unique()) )"
   ]
  },
  {
   "cell_type": "code",
   "execution_count": 23,
   "metadata": {},
   "outputs": [],
   "source": [
    "featureFilename = \"vectors/DB/RDF2Vec_sg_200_5_5_15_2_500_d5_uniform.txt\"\n",
    "embedding_df = pd.read_csv(featureFilename, delimiter='\\t') \n",
    "embedding_df.Entity =embedding_df.Entity.str[-8:-1]\n",
    "embedding_df.rename(columns={'Entity':'Drug'}, inplace=True)"
   ]
  },
  {
   "cell_type": "code",
   "execution_count": 24,
   "metadata": {},
   "outputs": [],
   "source": [
    "pairs, classes = ml.generatePairs(ddi_df, embedding_df)"
   ]
  },
  {
   "cell_type": "code",
   "execution_count": 25,
   "metadata": {},
   "outputs": [],
   "source": [
    "nb_model = GaussianNB()\n",
    "logistic_model = linear_model.LogisticRegression(C=0.01)\n",
    "rf_model = ensemble.RandomForestClassifier(n_estimators=200,  max_depth=8, n_jobs=-1)\n",
    "clfs = [('Naive Bayes',nb_model),('Logistic Regression',lr_model),('Random Forest',rf_model)]"
   ]
  },
  {
   "cell_type": "code",
   "execution_count": 26,
   "metadata": {},
   "outputs": [
    {
     "name": "stdout",
     "output_type": "stream",
     "text": [
      "+/-: 19424 19424 313096\n",
      "run 0\n",
      "+/-: 19424 19424 313096\n",
      "run 1\n",
      "+/-: 19424 19424 313096\n",
      "run 2\n",
      "+/-: 19424 19424 313096\n",
      "run 3\n",
      "+/-: 19424 19424 313096\n",
      "run 4\n",
      "+/-: 19424 19424 313096\n",
      "run 5\n",
      "+/-: 19424 19424 313096\n",
      "run 6\n",
      "+/-: 19424 19424 313096\n",
      "run 7\n",
      "+/-: 19424 19424 313096\n",
      "run 8\n",
      "+/-: 19424 19424 313096\n",
      "run 9\n"
     ]
    }
   ],
   "source": [
    "n_seed =100\n",
    "n_fold =10 \n",
    "n_run =10 \n",
    "n_proportion = 1,\n",
    "all_scores_df = ml.kfoldCV(sc, pairs, classes, embedding_df, clfs, n_run, n_fold, n_proportion, n_seed)"
   ]
  },
  {
   "cell_type": "code",
   "execution_count": 27,
   "metadata": {},
   "outputs": [
    {
     "data": {
      "text/html": [
       "<div>\n",
       "<style scoped>\n",
       "    .dataframe tbody tr th:only-of-type {\n",
       "        vertical-align: middle;\n",
       "    }\n",
       "\n",
       "    .dataframe tbody tr th {\n",
       "        vertical-align: top;\n",
       "    }\n",
       "\n",
       "    .dataframe thead th {\n",
       "        text-align: right;\n",
       "    }\n",
       "</style>\n",
       "<table border=\"1\" class=\"dataframe\">\n",
       "  <thead>\n",
       "    <tr style=\"text-align: right;\">\n",
       "      <th></th>\n",
       "      <th>accuracy</th>\n",
       "      <th>average_precision</th>\n",
       "      <th>f1</th>\n",
       "      <th>fold</th>\n",
       "      <th>precision</th>\n",
       "      <th>recall</th>\n",
       "      <th>roc_auc</th>\n",
       "    </tr>\n",
       "    <tr>\n",
       "      <th>method</th>\n",
       "      <th></th>\n",
       "      <th></th>\n",
       "      <th></th>\n",
       "      <th></th>\n",
       "      <th></th>\n",
       "      <th></th>\n",
       "      <th></th>\n",
       "    </tr>\n",
       "  </thead>\n",
       "  <tbody>\n",
       "    <tr>\n",
       "      <th>Logistic Regression</th>\n",
       "      <td>0.711738</td>\n",
       "      <td>0.769883</td>\n",
       "      <td>0.713828</td>\n",
       "      <td>4.5</td>\n",
       "      <td>0.708712</td>\n",
       "      <td>0.719100</td>\n",
       "      <td>0.782795</td>\n",
       "    </tr>\n",
       "    <tr>\n",
       "      <th>Naive Bayes</th>\n",
       "      <td>0.671322</td>\n",
       "      <td>0.732875</td>\n",
       "      <td>0.665936</td>\n",
       "      <td>4.5</td>\n",
       "      <td>0.677043</td>\n",
       "      <td>0.655292</td>\n",
       "      <td>0.735794</td>\n",
       "    </tr>\n",
       "    <tr>\n",
       "      <th>Random Forest</th>\n",
       "      <td>0.784519</td>\n",
       "      <td>0.851562</td>\n",
       "      <td>0.786984</td>\n",
       "      <td>4.5</td>\n",
       "      <td>0.778127</td>\n",
       "      <td>0.796128</td>\n",
       "      <td>0.863305</td>\n",
       "    </tr>\n",
       "  </tbody>\n",
       "</table>\n",
       "</div>"
      ],
      "text/plain": [
       "                     accuracy  average_precision        f1  fold  precision  \\\n",
       "method                                                                        \n",
       "Logistic Regression  0.711738           0.769883  0.713828   4.5   0.708712   \n",
       "Naive Bayes          0.671322           0.732875  0.665936   4.5   0.677043   \n",
       "Random Forest        0.784519           0.851562  0.786984   4.5   0.778127   \n",
       "\n",
       "                       recall   roc_auc  \n",
       "method                                   \n",
       "Logistic Regression  0.719100  0.782795  \n",
       "Naive Bayes          0.655292  0.735794  \n",
       "Random Forest        0.796128  0.863305  "
      ]
     },
     "execution_count": 27,
     "metadata": {},
     "output_type": "execute_result"
    }
   ],
   "source": [
    "all_scores_df.groupby(['method','run']).mean().groupby('method').mean()"
   ]
  },
  {
   "cell_type": "code",
   "execution_count": 28,
   "metadata": {},
   "outputs": [],
   "source": [
    "all_scores_df.to_csv('results/traditional/KEGG_TCV_run_sg.csv',sep=',', index=False)"
   ]
  },
  {
   "cell_type": "markdown",
   "metadata": {},
   "source": [
    "# Drugbank 5"
   ]
  },
  {
   "cell_type": "code",
   "execution_count": 29,
   "metadata": {},
   "outputs": [
    {
     "data": {
      "text/html": [
       "<div>\n",
       "<style scoped>\n",
       "    .dataframe tbody tr th:only-of-type {\n",
       "        vertical-align: middle;\n",
       "    }\n",
       "\n",
       "    .dataframe tbody tr th {\n",
       "        vertical-align: top;\n",
       "    }\n",
       "\n",
       "    .dataframe thead th {\n",
       "        text-align: right;\n",
       "    }\n",
       "</style>\n",
       "<table border=\"1\" class=\"dataframe\">\n",
       "  <thead>\n",
       "    <tr style=\"text-align: right;\">\n",
       "      <th></th>\n",
       "      <th>Drug1</th>\n",
       "      <th>Drug2</th>\n",
       "    </tr>\n",
       "  </thead>\n",
       "  <tbody>\n",
       "    <tr>\n",
       "      <th>0</th>\n",
       "      <td>DB00001</td>\n",
       "      <td>DB01048</td>\n",
       "    </tr>\n",
       "    <tr>\n",
       "      <th>1</th>\n",
       "      <td>DB00001</td>\n",
       "      <td>DB00054</td>\n",
       "    </tr>\n",
       "    <tr>\n",
       "      <th>2</th>\n",
       "      <td>DB00001</td>\n",
       "      <td>DB06736</td>\n",
       "    </tr>\n",
       "    <tr>\n",
       "      <th>3</th>\n",
       "      <td>DB00001</td>\n",
       "      <td>DB01418</td>\n",
       "    </tr>\n",
       "    <tr>\n",
       "      <th>4</th>\n",
       "      <td>DB00001</td>\n",
       "      <td>DB00945</td>\n",
       "    </tr>\n",
       "  </tbody>\n",
       "</table>\n",
       "</div>"
      ],
      "text/plain": [
       "     Drug1    Drug2\n",
       "0  DB00001  DB01048\n",
       "1  DB00001  DB00054\n",
       "2  DB00001  DB06736\n",
       "3  DB00001  DB01418\n",
       "4  DB00001  DB00945"
      ]
     },
     "execution_count": 29,
     "metadata": {},
     "output_type": "execute_result"
    }
   ],
   "source": [
    "ddi_df = pd.read_csv(\"data/input/ddi_v5.txt\", sep='\\t')\n",
    "ddi_df.head()"
   ]
  },
  {
   "cell_type": "code",
   "execution_count": 30,
   "metadata": {},
   "outputs": [],
   "source": [
    "featureFilename = \"vectors/DB/RDF2Vec_sg_200_5_5_15_2_500_d5_uniform.txt\"\n",
    "embedding_df = pd.read_csv(featureFilename, delimiter='\\t') \n",
    "embedding_df.Entity =embedding_df.Entity.str[-8:-1]\n",
    "embedding_df.rename(columns={'Entity':'Drug'}, inplace=True)"
   ]
  },
  {
   "cell_type": "code",
   "execution_count": 31,
   "metadata": {},
   "outputs": [
    {
     "data": {
      "text/plain": [
       "577712"
      ]
     },
     "execution_count": 31,
     "metadata": {},
     "output_type": "execute_result"
    }
   ],
   "source": [
    "len(ddi_df)"
   ]
  },
  {
   "cell_type": "code",
   "execution_count": 32,
   "metadata": {},
   "outputs": [
    {
     "data": {
      "text/plain": [
       "2551"
      ]
     },
     "execution_count": 32,
     "metadata": {},
     "output_type": "execute_result"
    }
   ],
   "source": [
    "len( set(ddi_df.Drug1.unique()).union(ddi_df.Drug2.unique()) )"
   ]
  },
  {
   "cell_type": "code",
   "execution_count": 33,
   "metadata": {},
   "outputs": [],
   "source": [
    "pairs, classes = ml.generatePairs(ddi_df, embedding_df)"
   ]
  },
  {
   "cell_type": "code",
   "execution_count": 34,
   "metadata": {},
   "outputs": [],
   "source": [
    "nb_model = GaussianNB()\n",
    "logistic_model = linear_model.LogisticRegression(C=0.01)\n",
    "rf_model = ensemble.RandomForestClassifier(n_estimators=200,  max_depth=8, n_jobs=-1)\n",
    "clfs = [('Naive Bayes',nb_model),('Logistic Regression',lr_model),('Random Forest',rf_model)]"
   ]
  },
  {
   "cell_type": "code",
   "execution_count": 35,
   "metadata": {},
   "outputs": [
    {
     "name": "stdout",
     "output_type": "stream",
     "text": [
      "+/-: 253449 253449 2001177\n",
      "run 0\n",
      "+/-: 253449 253449 2001177\n",
      "run 1\n",
      "+/-: 253449 253449 2001177\n",
      "run 2\n",
      "+/-: 253449 253449 2001177\n",
      "run 3\n",
      "+/-: 253449 253449 2001177\n",
      "run 4\n",
      "+/-: 253449 253449 2001177\n",
      "run 5\n",
      "+/-: 253449 253449 2001177\n",
      "run 6\n",
      "+/-: 253449 253449 2001177\n",
      "run 7\n",
      "+/-: 253449 253449 2001177\n",
      "run 8\n",
      "+/-: 253449 253449 2001177\n",
      "run 9\n"
     ]
    }
   ],
   "source": [
    "n_seed =100\n",
    "n_fold =10 \n",
    "n_run =10 \n",
    "n_proportion = 1,\n",
    "all_scores_df = ml.kfoldCV(sc, pairs, classes, embedding_df, clfs, n_run, n_fold, n_proportion, n_seed)"
   ]
  },
  {
   "cell_type": "code",
   "execution_count": 36,
   "metadata": {},
   "outputs": [
    {
     "data": {
      "text/html": [
       "<div>\n",
       "<style scoped>\n",
       "    .dataframe tbody tr th:only-of-type {\n",
       "        vertical-align: middle;\n",
       "    }\n",
       "\n",
       "    .dataframe tbody tr th {\n",
       "        vertical-align: top;\n",
       "    }\n",
       "\n",
       "    .dataframe thead th {\n",
       "        text-align: right;\n",
       "    }\n",
       "</style>\n",
       "<table border=\"1\" class=\"dataframe\">\n",
       "  <thead>\n",
       "    <tr style=\"text-align: right;\">\n",
       "      <th></th>\n",
       "      <th>accuracy</th>\n",
       "      <th>average_precision</th>\n",
       "      <th>f1</th>\n",
       "      <th>fold</th>\n",
       "      <th>precision</th>\n",
       "      <th>recall</th>\n",
       "      <th>roc_auc</th>\n",
       "    </tr>\n",
       "    <tr>\n",
       "      <th>method</th>\n",
       "      <th></th>\n",
       "      <th></th>\n",
       "      <th></th>\n",
       "      <th></th>\n",
       "      <th></th>\n",
       "      <th></th>\n",
       "      <th></th>\n",
       "    </tr>\n",
       "  </thead>\n",
       "  <tbody>\n",
       "    <tr>\n",
       "      <th>Logistic Regression</th>\n",
       "      <td>0.717088</td>\n",
       "      <td>0.788790</td>\n",
       "      <td>0.718784</td>\n",
       "      <td>4.5</td>\n",
       "      <td>0.714502</td>\n",
       "      <td>0.723125</td>\n",
       "      <td>0.789580</td>\n",
       "    </tr>\n",
       "    <tr>\n",
       "      <th>Naive Bayes</th>\n",
       "      <td>0.679526</td>\n",
       "      <td>0.756393</td>\n",
       "      <td>0.682259</td>\n",
       "      <td>4.5</td>\n",
       "      <td>0.676490</td>\n",
       "      <td>0.688134</td>\n",
       "      <td>0.743140</td>\n",
       "    </tr>\n",
       "    <tr>\n",
       "      <th>Random Forest</th>\n",
       "      <td>0.765631</td>\n",
       "      <td>0.845983</td>\n",
       "      <td>0.763037</td>\n",
       "      <td>4.5</td>\n",
       "      <td>0.771574</td>\n",
       "      <td>0.754696</td>\n",
       "      <td>0.843604</td>\n",
       "    </tr>\n",
       "  </tbody>\n",
       "</table>\n",
       "</div>"
      ],
      "text/plain": [
       "                     accuracy  average_precision        f1  fold  precision  \\\n",
       "method                                                                        \n",
       "Logistic Regression  0.717088           0.788790  0.718784   4.5   0.714502   \n",
       "Naive Bayes          0.679526           0.756393  0.682259   4.5   0.676490   \n",
       "Random Forest        0.765631           0.845983  0.763037   4.5   0.771574   \n",
       "\n",
       "                       recall   roc_auc  \n",
       "method                                   \n",
       "Logistic Regression  0.723125  0.789580  \n",
       "Naive Bayes          0.688134  0.743140  \n",
       "Random Forest        0.754696  0.843604  "
      ]
     },
     "execution_count": 36,
     "metadata": {},
     "output_type": "execute_result"
    }
   ],
   "source": [
    "all_scores_df.groupby(['method','run']).mean().groupby('method').mean()"
   ]
  },
  {
   "cell_type": "code",
   "execution_count": 37,
   "metadata": {},
   "outputs": [],
   "source": [
    "all_scores_df.to_csv('results/traditional/DBv5_TCV_run_sg.csv',sep=',', index=False)"
   ]
  },
  {
   "cell_type": "markdown",
   "metadata": {},
   "source": [
    "# Drugbankv5 - RDF2Vec CBOW "
   ]
  },
  {
   "cell_type": "code",
   "execution_count": 39,
   "metadata": {},
   "outputs": [],
   "source": [
    "featureFilename = \"vectors/DB/RDF2Vec_cbow_200_5_5_2_500_d5_uniform.txt\"\n",
    "embedding_df = pd.read_csv(featureFilename, delimiter='\\t') \n",
    "embedding_df.Entity =embedding_df.Entity.str[-8:-1]\n",
    "embedding_df.rename(columns={'Entity':'Drug'}, inplace=True)"
   ]
  },
  {
   "cell_type": "code",
   "execution_count": 40,
   "metadata": {},
   "outputs": [],
   "source": [
    "pairs, classes = ml.generatePairs(ddi_df, embedding_df)"
   ]
  },
  {
   "cell_type": "code",
   "execution_count": 41,
   "metadata": {},
   "outputs": [],
   "source": [
    "nb_model = GaussianNB()\n",
    "logistic_model = linear_model.LogisticRegression(C=0.01)\n",
    "rf_model = ensemble.RandomForestClassifier(n_estimators=200,  max_depth=8, n_jobs=-1)\n",
    "clfs = [('Naive Bayes',nb_model),('Logistic Regression',lr_model),('Random Forest',rf_model)]"
   ]
  },
  {
   "cell_type": "code",
   "execution_count": null,
   "metadata": {},
   "outputs": [
    {
     "name": "stdout",
     "output_type": "stream",
     "text": [
      "+/-: 253449 253449 2001177\n",
      "run 0\n",
      "+/-: 253449 253449 2001177\n",
      "run 1\n",
      "+/-: 253449 253449 2001177\n",
      "run 2\n",
      "+/-: 253449 253449 2001177\n",
      "run 3\n",
      "+/-: 253449 253449 2001177\n",
      "run 4\n",
      "+/-: 253449 253449 2001177\n",
      "run 5\n"
     ]
    }
   ],
   "source": [
    "n_seed =100\n",
    "n_fold =10 \n",
    "n_run =10 \n",
    "n_proportion = 1,\n",
    "all_scores_df = ml.kfoldCV(sc, pairs, classes, embedding_df, clfs, n_run, n_fold, n_proportion, n_seed)"
   ]
  },
  {
   "cell_type": "code",
   "execution_count": null,
   "metadata": {},
   "outputs": [],
   "source": [
    "all_scores_df.groupby(['method','run']).mean().groupby('method').mean()"
   ]
  },
  {
   "cell_type": "code",
   "execution_count": null,
   "metadata": {},
   "outputs": [],
   "source": [
    "all_scores_df.to_csv('results/traditional/DBv5_TCV_run_cbow.csv',sep=',', index=False)"
   ]
  },
  {
   "cell_type": "code",
   "execution_count": null,
   "metadata": {},
   "outputs": [],
   "source": []
  }
 ],
 "metadata": {
  "kernelspec": {
   "display_name": "Python 3",
   "language": "python",
   "name": "python3"
  },
  "language_info": {
   "codemirror_mode": {
    "name": "ipython",
    "version": 3
   },
   "file_extension": ".py",
   "mimetype": "text/x-python",
   "name": "python",
   "nbconvert_exporter": "python",
   "pygments_lexer": "ipython3",
   "version": "3.6.6"
  }
 },
 "nbformat": 4,
 "nbformat_minor": 2
}
